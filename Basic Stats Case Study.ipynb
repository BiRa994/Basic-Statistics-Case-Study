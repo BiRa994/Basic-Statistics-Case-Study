{
 "cells": [
  {
   "cell_type": "markdown",
   "id": "e22118af",
   "metadata": {},
   "source": [
    "# Basic Statistics Case Study"
   ]
  },
  {
   "cell_type": "markdown",
   "id": "c02bcfc6",
   "metadata": {},
   "source": [
    "## Business Problem-1"
   ]
  },
  {
   "cell_type": "code",
   "execution_count": 1,
   "id": "b8143011",
   "metadata": {},
   "outputs": [],
   "source": [
    "import numpy as np\n",
    "import pandas as pd\n",
    "import matplotlib.pyplot as plt\n",
    "import scipy.stats as stats\n",
    "\n",
    "from warnings import filterwarnings \n",
    "filterwarnings('ignore')"
   ]
  },
  {
   "cell_type": "code",
   "execution_count": 2,
   "id": "5a2d2319",
   "metadata": {},
   "outputs": [
    {
     "data": {
      "text/html": [
       "<div>\n",
       "<style scoped>\n",
       "    .dataframe tbody tr th:only-of-type {\n",
       "        vertical-align: middle;\n",
       "    }\n",
       "\n",
       "    .dataframe tbody tr th {\n",
       "        vertical-align: top;\n",
       "    }\n",
       "\n",
       "    .dataframe thead th {\n",
       "        text-align: right;\n",
       "    }\n",
       "</style>\n",
       "<table border=\"1\" class=\"dataframe\">\n",
       "  <thead>\n",
       "    <tr style=\"text-align: right;\">\n",
       "      <th></th>\n",
       "      <th>Amount.Requested</th>\n",
       "      <th>Amount.Funded.By.Investors</th>\n",
       "      <th>Interest.Rate</th>\n",
       "      <th>Loan.Length</th>\n",
       "      <th>Loan.Purpose</th>\n",
       "      <th>Debt.To.Income.Ratio</th>\n",
       "      <th>State</th>\n",
       "      <th>Home.Ownership</th>\n",
       "      <th>Monthly.Income</th>\n",
       "      <th>FICO.Range</th>\n",
       "      <th>Open.CREDIT.Lines</th>\n",
       "      <th>Revolving.CREDIT.Balance</th>\n",
       "      <th>Inquiries.in.the.Last.6.Months</th>\n",
       "      <th>Employment.Length</th>\n",
       "    </tr>\n",
       "  </thead>\n",
       "  <tbody>\n",
       "    <tr>\n",
       "      <th>0</th>\n",
       "      <td>20000</td>\n",
       "      <td>20000.0</td>\n",
       "      <td>8.90%</td>\n",
       "      <td>36 months</td>\n",
       "      <td>debt_consolidation</td>\n",
       "      <td>14.90%</td>\n",
       "      <td>SC</td>\n",
       "      <td>MORTGAGE</td>\n",
       "      <td>6541.67</td>\n",
       "      <td>735-739</td>\n",
       "      <td>14</td>\n",
       "      <td>14272</td>\n",
       "      <td>2</td>\n",
       "      <td>&lt; 1 year</td>\n",
       "    </tr>\n",
       "    <tr>\n",
       "      <th>1</th>\n",
       "      <td>19200</td>\n",
       "      <td>19200.0</td>\n",
       "      <td>12.12%</td>\n",
       "      <td>36 months</td>\n",
       "      <td>debt_consolidation</td>\n",
       "      <td>28.36%</td>\n",
       "      <td>TX</td>\n",
       "      <td>MORTGAGE</td>\n",
       "      <td>4583.33</td>\n",
       "      <td>715-719</td>\n",
       "      <td>12</td>\n",
       "      <td>11140</td>\n",
       "      <td>1</td>\n",
       "      <td>2 years</td>\n",
       "    </tr>\n",
       "    <tr>\n",
       "      <th>2</th>\n",
       "      <td>35000</td>\n",
       "      <td>35000.0</td>\n",
       "      <td>21.98%</td>\n",
       "      <td>60 months</td>\n",
       "      <td>debt_consolidation</td>\n",
       "      <td>23.81%</td>\n",
       "      <td>CA</td>\n",
       "      <td>MORTGAGE</td>\n",
       "      <td>11500.0</td>\n",
       "      <td>690-694</td>\n",
       "      <td>14</td>\n",
       "      <td>21977</td>\n",
       "      <td>1</td>\n",
       "      <td>2 years</td>\n",
       "    </tr>\n",
       "    <tr>\n",
       "      <th>3</th>\n",
       "      <td>10000</td>\n",
       "      <td>9975.0</td>\n",
       "      <td>9.99%</td>\n",
       "      <td>36 months</td>\n",
       "      <td>debt_consolidation</td>\n",
       "      <td>14.30%</td>\n",
       "      <td>KS</td>\n",
       "      <td>MORTGAGE</td>\n",
       "      <td>3833.33</td>\n",
       "      <td>695-699</td>\n",
       "      <td>10</td>\n",
       "      <td>9346</td>\n",
       "      <td>0</td>\n",
       "      <td>5 years</td>\n",
       "    </tr>\n",
       "    <tr>\n",
       "      <th>4</th>\n",
       "      <td>12000</td>\n",
       "      <td>12000.0</td>\n",
       "      <td>11.71%</td>\n",
       "      <td>36 months</td>\n",
       "      <td>credit_card</td>\n",
       "      <td>18.78%</td>\n",
       "      <td>NJ</td>\n",
       "      <td>RENT</td>\n",
       "      <td>3195.0</td>\n",
       "      <td>695-699</td>\n",
       "      <td>11</td>\n",
       "      <td>14469</td>\n",
       "      <td>0</td>\n",
       "      <td>9 years</td>\n",
       "    </tr>\n",
       "    <tr>\n",
       "      <th>...</th>\n",
       "      <td>...</td>\n",
       "      <td>...</td>\n",
       "      <td>...</td>\n",
       "      <td>...</td>\n",
       "      <td>...</td>\n",
       "      <td>...</td>\n",
       "      <td>...</td>\n",
       "      <td>...</td>\n",
       "      <td>...</td>\n",
       "      <td>...</td>\n",
       "      <td>...</td>\n",
       "      <td>...</td>\n",
       "      <td>...</td>\n",
       "      <td>...</td>\n",
       "    </tr>\n",
       "    <tr>\n",
       "      <th>2495</th>\n",
       "      <td>30000</td>\n",
       "      <td>29950.0</td>\n",
       "      <td>16.77%</td>\n",
       "      <td>60 months</td>\n",
       "      <td>debt_consolidation</td>\n",
       "      <td>19.23%</td>\n",
       "      <td>NY</td>\n",
       "      <td>MORTGAGE</td>\n",
       "      <td>9250.0</td>\n",
       "      <td>705-709</td>\n",
       "      <td>15</td>\n",
       "      <td>45880</td>\n",
       "      <td>1</td>\n",
       "      <td>8 years</td>\n",
       "    </tr>\n",
       "    <tr>\n",
       "      <th>2496</th>\n",
       "      <td>16000</td>\n",
       "      <td>16000.0</td>\n",
       "      <td>14.09%</td>\n",
       "      <td>60 months</td>\n",
       "      <td>home_improvement</td>\n",
       "      <td>21.54%</td>\n",
       "      <td>MD</td>\n",
       "      <td>OWN</td>\n",
       "      <td>8903.25</td>\n",
       "      <td>740-744</td>\n",
       "      <td>18</td>\n",
       "      <td>18898</td>\n",
       "      <td>1</td>\n",
       "      <td>10+ years</td>\n",
       "    </tr>\n",
       "    <tr>\n",
       "      <th>2497</th>\n",
       "      <td>10000</td>\n",
       "      <td>10000.0</td>\n",
       "      <td>13.99%</td>\n",
       "      <td>36 months</td>\n",
       "      <td>debt_consolidation</td>\n",
       "      <td>4.89%</td>\n",
       "      <td>PA</td>\n",
       "      <td>MORTGAGE</td>\n",
       "      <td>2166.67</td>\n",
       "      <td>680-684</td>\n",
       "      <td>4</td>\n",
       "      <td>4544</td>\n",
       "      <td>0</td>\n",
       "      <td>10+ years</td>\n",
       "    </tr>\n",
       "    <tr>\n",
       "      <th>2498</th>\n",
       "      <td>6000</td>\n",
       "      <td>6000.0</td>\n",
       "      <td>12.42%</td>\n",
       "      <td>36 months</td>\n",
       "      <td>major_purchase</td>\n",
       "      <td>16.66%</td>\n",
       "      <td>NJ</td>\n",
       "      <td>RENT</td>\n",
       "      <td>3500.0</td>\n",
       "      <td>675-679</td>\n",
       "      <td>8</td>\n",
       "      <td>7753</td>\n",
       "      <td>0</td>\n",
       "      <td>5 years</td>\n",
       "    </tr>\n",
       "    <tr>\n",
       "      <th>2499</th>\n",
       "      <td>9000</td>\n",
       "      <td>5242.75</td>\n",
       "      <td>13.79%</td>\n",
       "      <td>36 months</td>\n",
       "      <td>debt_consolidation</td>\n",
       "      <td>6.76%</td>\n",
       "      <td>NY</td>\n",
       "      <td>RENT</td>\n",
       "      <td>3875.0</td>\n",
       "      <td>670-674</td>\n",
       "      <td>7</td>\n",
       "      <td>7589</td>\n",
       "      <td>0</td>\n",
       "      <td>10+ years</td>\n",
       "    </tr>\n",
       "  </tbody>\n",
       "</table>\n",
       "<p>2500 rows × 14 columns</p>\n",
       "</div>"
      ],
      "text/plain": [
       "      Amount.Requested  Amount.Funded.By.Investors Interest.Rate Loan.Length  \\\n",
       "0                20000                     20000.0         8.90%   36 months   \n",
       "1                19200                     19200.0        12.12%   36 months   \n",
       "2                35000                     35000.0        21.98%   60 months   \n",
       "3                10000                      9975.0         9.99%   36 months   \n",
       "4                12000                     12000.0        11.71%   36 months   \n",
       "...                ...                         ...           ...         ...   \n",
       "2495             30000                     29950.0        16.77%   60 months   \n",
       "2496             16000                     16000.0        14.09%   60 months   \n",
       "2497             10000                     10000.0        13.99%   36 months   \n",
       "2498              6000                      6000.0        12.42%   36 months   \n",
       "2499              9000                     5242.75        13.79%   36 months   \n",
       "\n",
       "            Loan.Purpose Debt.To.Income.Ratio State Home.Ownership  \\\n",
       "0     debt_consolidation               14.90%    SC       MORTGAGE   \n",
       "1     debt_consolidation               28.36%    TX       MORTGAGE   \n",
       "2     debt_consolidation               23.81%    CA       MORTGAGE   \n",
       "3     debt_consolidation               14.30%    KS       MORTGAGE   \n",
       "4            credit_card               18.78%    NJ           RENT   \n",
       "...                  ...                  ...   ...            ...   \n",
       "2495  debt_consolidation               19.23%    NY       MORTGAGE   \n",
       "2496    home_improvement               21.54%    MD            OWN   \n",
       "2497  debt_consolidation                4.89%    PA       MORTGAGE   \n",
       "2498      major_purchase               16.66%    NJ           RENT   \n",
       "2499  debt_consolidation                6.76%    NY           RENT   \n",
       "\n",
       "      Monthly.Income FICO.Range  Open.CREDIT.Lines  Revolving.CREDIT.Balance  \\\n",
       "0            6541.67    735-739                 14                     14272   \n",
       "1            4583.33    715-719                 12                     11140   \n",
       "2            11500.0    690-694                 14                     21977   \n",
       "3            3833.33    695-699                 10                      9346   \n",
       "4             3195.0    695-699                 11                     14469   \n",
       "...              ...        ...                ...                       ...   \n",
       "2495          9250.0    705-709                 15                     45880   \n",
       "2496         8903.25    740-744                 18                     18898   \n",
       "2497         2166.67    680-684                  4                      4544   \n",
       "2498          3500.0    675-679                  8                      7753   \n",
       "2499          3875.0    670-674                  7                      7589   \n",
       "\n",
       "      Inquiries.in.the.Last.6.Months Employment.Length  \n",
       "0                                  2          < 1 year  \n",
       "1                                  1           2 years  \n",
       "2                                  1           2 years  \n",
       "3                                  0           5 years  \n",
       "4                                  0           9 years  \n",
       "...                              ...               ...  \n",
       "2495                               1           8 years  \n",
       "2496                               1         10+ years  \n",
       "2497                               0         10+ years  \n",
       "2498                               0           5 years  \n",
       "2499                               0         10+ years  \n",
       "\n",
       "[2500 rows x 14 columns]"
      ]
     },
     "execution_count": 2,
     "metadata": {},
     "output_type": "execute_result"
    }
   ],
   "source": [
    "Loans_Data=pd.read_csv(r'LoansData.csv').convert_dtypes()\n",
    "Loans_Data"
   ]
  },
  {
   "cell_type": "code",
   "execution_count": 3,
   "id": "270f1475",
   "metadata": {},
   "outputs": [
    {
     "name": "stdout",
     "output_type": "stream",
     "text": [
      "<class 'pandas.core.frame.DataFrame'>\n",
      "RangeIndex: 2500 entries, 0 to 2499\n",
      "Data columns (total 14 columns):\n",
      " #   Column                          Non-Null Count  Dtype  \n",
      "---  ------                          --------------  -----  \n",
      " 0   Amount.Requested                2499 non-null   Int64  \n",
      " 1   Amount.Funded.By.Investors      2499 non-null   Float64\n",
      " 2   Interest.Rate                   2498 non-null   string \n",
      " 3   Loan.Length                     2500 non-null   string \n",
      " 4   Loan.Purpose                    2500 non-null   string \n",
      " 5   Debt.To.Income.Ratio            2499 non-null   string \n",
      " 6   State                           2500 non-null   string \n",
      " 7   Home.Ownership                  2499 non-null   string \n",
      " 8   Monthly.Income                  2499 non-null   Float64\n",
      " 9   FICO.Range                      2498 non-null   string \n",
      " 10  Open.CREDIT.Lines               2497 non-null   Int64  \n",
      " 11  Revolving.CREDIT.Balance        2497 non-null   Int64  \n",
      " 12  Inquiries.in.the.Last.6.Months  2497 non-null   Int64  \n",
      " 13  Employment.Length               2423 non-null   string \n",
      "dtypes: Float64(2), Int64(4), string(8)\n",
      "memory usage: 288.2 KB\n"
     ]
    }
   ],
   "source": [
    "Loans_Data.info()"
   ]
  },
  {
   "cell_type": "code",
   "execution_count": 4,
   "id": "4c751faf",
   "metadata": {},
   "outputs": [],
   "source": [
    "# Columns Renaming\n",
    "Loans_Data.columns=Loans_Data.columns.str.replace('.','_')"
   ]
  },
  {
   "cell_type": "code",
   "execution_count": 5,
   "id": "099b1608",
   "metadata": {},
   "outputs": [
    {
     "data": {
      "text/html": [
       "<div>\n",
       "<style scoped>\n",
       "    .dataframe tbody tr th:only-of-type {\n",
       "        vertical-align: middle;\n",
       "    }\n",
       "\n",
       "    .dataframe tbody tr th {\n",
       "        vertical-align: top;\n",
       "    }\n",
       "\n",
       "    .dataframe thead th {\n",
       "        text-align: right;\n",
       "    }\n",
       "</style>\n",
       "<table border=\"1\" class=\"dataframe\">\n",
       "  <thead>\n",
       "    <tr style=\"text-align: right;\">\n",
       "      <th></th>\n",
       "      <th>Amount_Requested</th>\n",
       "      <th>Amount_Funded_By_Investors</th>\n",
       "      <th>Interest_Rate</th>\n",
       "      <th>Loan_Length</th>\n",
       "      <th>Loan_Purpose</th>\n",
       "      <th>Debt_To_Income_Ratio</th>\n",
       "      <th>State</th>\n",
       "      <th>Home_Ownership</th>\n",
       "      <th>Monthly_Income</th>\n",
       "      <th>FICO_Range</th>\n",
       "      <th>Open_CREDIT_Lines</th>\n",
       "      <th>Revolving_CREDIT_Balance</th>\n",
       "      <th>Inquiries_in_the_Last_6_Months</th>\n",
       "      <th>Employment_Length</th>\n",
       "    </tr>\n",
       "  </thead>\n",
       "  <tbody>\n",
       "    <tr>\n",
       "      <th>0</th>\n",
       "      <td>20000</td>\n",
       "      <td>20000.0</td>\n",
       "      <td>8.90%</td>\n",
       "      <td>36 months</td>\n",
       "      <td>debt_consolidation</td>\n",
       "      <td>14.90%</td>\n",
       "      <td>SC</td>\n",
       "      <td>MORTGAGE</td>\n",
       "      <td>6541.67</td>\n",
       "      <td>735-739</td>\n",
       "      <td>14</td>\n",
       "      <td>14272</td>\n",
       "      <td>2</td>\n",
       "      <td>&lt; 1 year</td>\n",
       "    </tr>\n",
       "    <tr>\n",
       "      <th>1</th>\n",
       "      <td>19200</td>\n",
       "      <td>19200.0</td>\n",
       "      <td>12.12%</td>\n",
       "      <td>36 months</td>\n",
       "      <td>debt_consolidation</td>\n",
       "      <td>28.36%</td>\n",
       "      <td>TX</td>\n",
       "      <td>MORTGAGE</td>\n",
       "      <td>4583.33</td>\n",
       "      <td>715-719</td>\n",
       "      <td>12</td>\n",
       "      <td>11140</td>\n",
       "      <td>1</td>\n",
       "      <td>2 years</td>\n",
       "    </tr>\n",
       "    <tr>\n",
       "      <th>2</th>\n",
       "      <td>35000</td>\n",
       "      <td>35000.0</td>\n",
       "      <td>21.98%</td>\n",
       "      <td>60 months</td>\n",
       "      <td>debt_consolidation</td>\n",
       "      <td>23.81%</td>\n",
       "      <td>CA</td>\n",
       "      <td>MORTGAGE</td>\n",
       "      <td>11500.0</td>\n",
       "      <td>690-694</td>\n",
       "      <td>14</td>\n",
       "      <td>21977</td>\n",
       "      <td>1</td>\n",
       "      <td>2 years</td>\n",
       "    </tr>\n",
       "  </tbody>\n",
       "</table>\n",
       "</div>"
      ],
      "text/plain": [
       "   Amount_Requested  Amount_Funded_By_Investors Interest_Rate Loan_Length  \\\n",
       "0             20000                     20000.0         8.90%   36 months   \n",
       "1             19200                     19200.0        12.12%   36 months   \n",
       "2             35000                     35000.0        21.98%   60 months   \n",
       "\n",
       "         Loan_Purpose Debt_To_Income_Ratio State Home_Ownership  \\\n",
       "0  debt_consolidation               14.90%    SC       MORTGAGE   \n",
       "1  debt_consolidation               28.36%    TX       MORTGAGE   \n",
       "2  debt_consolidation               23.81%    CA       MORTGAGE   \n",
       "\n",
       "   Monthly_Income FICO_Range  Open_CREDIT_Lines  Revolving_CREDIT_Balance  \\\n",
       "0         6541.67    735-739                 14                     14272   \n",
       "1         4583.33    715-719                 12                     11140   \n",
       "2         11500.0    690-694                 14                     21977   \n",
       "\n",
       "   Inquiries_in_the_Last_6_Months Employment_Length  \n",
       "0                               2          < 1 year  \n",
       "1                               1           2 years  \n",
       "2                               1           2 years  "
      ]
     },
     "execution_count": 5,
     "metadata": {},
     "output_type": "execute_result"
    }
   ],
   "source": [
    "Loans_Data.head(3)"
   ]
  },
  {
   "cell_type": "code",
   "execution_count": 6,
   "id": "7f288935",
   "metadata": {
    "scrolled": false
   },
   "outputs": [],
   "source": [
    "# Changing to suitable Datatypes\n",
    "Loans_Data.Interest_Rate=Loans_Data.Interest_Rate.str.strip('%').astype('float')"
   ]
  },
  {
   "cell_type": "code",
   "execution_count": 7,
   "id": "33e620e2",
   "metadata": {},
   "outputs": [],
   "source": [
    "Loans_Data.Debt_To_Income_Ratio=Loans_Data.Debt_To_Income_Ratio.str.strip('%').astype('float')"
   ]
  },
  {
   "cell_type": "code",
   "execution_count": 8,
   "id": "d666c831",
   "metadata": {},
   "outputs": [],
   "source": [
    "Loans_Data.Loan_Length=Loans_Data.Loan_Length.str.strip('months').astype('int')"
   ]
  },
  {
   "cell_type": "code",
   "execution_count": 9,
   "id": "ce3102a8",
   "metadata": {},
   "outputs": [
    {
     "name": "stdout",
     "output_type": "stream",
     "text": [
      "<class 'pandas.core.frame.DataFrame'>\n",
      "RangeIndex: 2500 entries, 0 to 2499\n",
      "Data columns (total 14 columns):\n",
      " #   Column                          Non-Null Count  Dtype  \n",
      "---  ------                          --------------  -----  \n",
      " 0   Amount_Requested                2499 non-null   Int64  \n",
      " 1   Amount_Funded_By_Investors      2499 non-null   Float64\n",
      " 2   Interest_Rate                   2498 non-null   float64\n",
      " 3   Loan_Length                     2500 non-null   int32  \n",
      " 4   Loan_Purpose                    2500 non-null   string \n",
      " 5   Debt_To_Income_Ratio            2499 non-null   float64\n",
      " 6   State                           2500 non-null   string \n",
      " 7   Home_Ownership                  2499 non-null   string \n",
      " 8   Monthly_Income                  2499 non-null   Float64\n",
      " 9   FICO_Range                      2498 non-null   string \n",
      " 10  Open_CREDIT_Lines               2497 non-null   Int64  \n",
      " 11  Revolving_CREDIT_Balance        2497 non-null   Int64  \n",
      " 12  Inquiries_in_the_Last_6_Months  2497 non-null   Int64  \n",
      " 13  Employment_Length               2423 non-null   string \n",
      "dtypes: Float64(2), Int64(4), float64(2), int32(1), string(5)\n",
      "memory usage: 278.4 KB\n"
     ]
    }
   ],
   "source": [
    "Loans_Data.info()\n"
   ]
  },
  {
   "cell_type": "code",
   "execution_count": 10,
   "id": "e5c0080e",
   "metadata": {},
   "outputs": [
    {
     "data": {
      "text/plain": [
       "Amount_Requested                   1\n",
       "Amount_Funded_By_Investors         1\n",
       "Interest_Rate                      2\n",
       "Loan_Length                        0\n",
       "Loan_Purpose                       0\n",
       "Debt_To_Income_Ratio               1\n",
       "State                              0\n",
       "Home_Ownership                     1\n",
       "Monthly_Income                     1\n",
       "FICO_Range                         2\n",
       "Open_CREDIT_Lines                  3\n",
       "Revolving_CREDIT_Balance           3\n",
       "Inquiries_in_the_Last_6_Months     3\n",
       "Employment_Length                 77\n",
       "dtype: int64"
      ]
     },
     "execution_count": 10,
     "metadata": {},
     "output_type": "execute_result"
    }
   ],
   "source": [
    "Loans_Data.isna().sum()"
   ]
  },
  {
   "cell_type": "markdown",
   "id": "041977c8",
   "metadata": {},
   "source": [
    "### Dropping Unneccessary Column and na values"
   ]
  },
  {
   "cell_type": "code",
   "execution_count": 11,
   "id": "26912019",
   "metadata": {},
   "outputs": [],
   "source": [
    "Loans_Data.drop(columns=['Employment_Length'],inplace=True)"
   ]
  },
  {
   "cell_type": "code",
   "execution_count": 12,
   "id": "e8cb1b2d",
   "metadata": {},
   "outputs": [],
   "source": [
    "\n",
    "Loans_Data=Loans_Data.dropna()"
   ]
  },
  {
   "cell_type": "markdown",
   "id": "dadeeb90",
   "metadata": {},
   "source": [
    "### Filling missing values"
   ]
  },
  {
   "cell_type": "code",
   "execution_count": 13,
   "id": "f4339330",
   "metadata": {},
   "outputs": [],
   "source": [
    "Loans_Data.Amount_Requested=Loans_Data.Amount_Requested.astype('float')"
   ]
  },
  {
   "cell_type": "code",
   "execution_count": 14,
   "id": "36bca9a7",
   "metadata": {},
   "outputs": [],
   "source": [
    "Loans_Data.Open_CREDIT_Lines=Loans_Data.Open_CREDIT_Lines.astype('float')"
   ]
  },
  {
   "cell_type": "code",
   "execution_count": 15,
   "id": "8a707279",
   "metadata": {},
   "outputs": [],
   "source": [
    "Loans_Data.Revolving_CREDIT_Balance=Loans_Data.Revolving_CREDIT_Balance.astype('float')"
   ]
  },
  {
   "cell_type": "code",
   "execution_count": 16,
   "id": "9ff635f3",
   "metadata": {},
   "outputs": [
    {
     "data": {
      "text/plain": [
       "Amount_Requested                  0\n",
       "Amount_Funded_By_Investors        0\n",
       "Interest_Rate                     0\n",
       "Loan_Length                       0\n",
       "Loan_Purpose                      0\n",
       "Debt_To_Income_Ratio              0\n",
       "State                             0\n",
       "Home_Ownership                    0\n",
       "Monthly_Income                    0\n",
       "FICO_Range                        0\n",
       "Open_CREDIT_Lines                 0\n",
       "Revolving_CREDIT_Balance          0\n",
       "Inquiries_in_the_Last_6_Months    0\n",
       "dtype: int64"
      ]
     },
     "execution_count": 16,
     "metadata": {},
     "output_type": "execute_result"
    }
   ],
   "source": [
    "Loans_Data.isna().sum()"
   ]
  },
  {
   "cell_type": "code",
   "execution_count": 17,
   "id": "56cf52a6",
   "metadata": {},
   "outputs": [
    {
     "name": "stdout",
     "output_type": "stream",
     "text": [
      "<class 'pandas.core.frame.DataFrame'>\n",
      "Int64Index: 2489 entries, 0 to 2499\n",
      "Data columns (total 13 columns):\n",
      " #   Column                          Non-Null Count  Dtype  \n",
      "---  ------                          --------------  -----  \n",
      " 0   Amount_Requested                2489 non-null   float64\n",
      " 1   Amount_Funded_By_Investors      2489 non-null   Float64\n",
      " 2   Interest_Rate                   2489 non-null   float64\n",
      " 3   Loan_Length                     2489 non-null   int32  \n",
      " 4   Loan_Purpose                    2489 non-null   string \n",
      " 5   Debt_To_Income_Ratio            2489 non-null   float64\n",
      " 6   State                           2489 non-null   string \n",
      " 7   Home_Ownership                  2489 non-null   string \n",
      " 8   Monthly_Income                  2489 non-null   Float64\n",
      " 9   FICO_Range                      2489 non-null   string \n",
      " 10  Open_CREDIT_Lines               2489 non-null   float64\n",
      " 11  Revolving_CREDIT_Balance        2489 non-null   float64\n",
      " 12  Inquiries_in_the_Last_6_Months  2489 non-null   Int64  \n",
      "dtypes: Float64(2), Int64(1), float64(5), int32(1), string(4)\n",
      "memory usage: 269.8 KB\n"
     ]
    }
   ],
   "source": [
    "Loans_Data.info()"
   ]
  },
  {
   "cell_type": "markdown",
   "id": "3f2dbe30",
   "metadata": {},
   "source": [
    "### BUSINESS PROBLEM:\n",
    "### Using lending club loans data, the team would like to test below hypothesis on how different \n",
    "### factors effecing each other (Hint: You may leverage hypothesis testing using statistical tests)\n",
    "### a. Intrest rate is varied for different loan amounts (Less intrest charged for high loan amounts)\n",
    "### b. Loan length is directly effecting intrest rate.\n",
    "### c. Inrest rate varies for different purpose of loans\n",
    "### d. There is relationship between FICO scores and Home Ownership. It means that, People \n",
    "### with owning home will have high FICO scores."
   ]
  },
  {
   "cell_type": "markdown",
   "id": "e2127275",
   "metadata": {},
   "source": [
    "## a. Interest rate is varied for different loan amounts (Less interest charged for high loan amounts)\n"
   ]
  },
  {
   "cell_type": "markdown",
   "id": "8ebbd6ed",
   "metadata": {},
   "source": [
    "#### Hypothesis Defined:"
   ]
  },
  {
   "cell_type": "raw",
   "id": "a0936543",
   "metadata": {},
   "source": [
    "H0(Null-Hypothesis) : No relationship between Interest rate  and Loan Amount. \n",
    "    \n",
    "Ha(Alternate Hypothesis):  There is a relationship between Interest rate  and Loan Amount. \n",
    "\n",
    "Confidence Level : 95 %\n",
    "If p_value < 0.05, to reject Null Hypothesis\n",
    "\n",
    "Type of Test: Correlation Test"
   ]
  },
  {
   "cell_type": "markdown",
   "id": "247f4a63",
   "metadata": {},
   "source": [
    "#### Performing the Test:"
   ]
  },
  {
   "cell_type": "code",
   "execution_count": 18,
   "id": "59880bab",
   "metadata": {},
   "outputs": [
    {
     "data": {
      "text/plain": [
       "(0.33080192768204364, 1.2455678861892716e-64)"
      ]
     },
     "execution_count": 18,
     "metadata": {},
     "output_type": "execute_result"
    }
   ],
   "source": [
    "Corr=stats.pearsonr(Loans_Data['Interest_Rate'],Loans_Data['Amount_Requested'])\n",
    "Corr"
   ]
  },
  {
   "cell_type": "markdown",
   "id": "e21b4481",
   "metadata": {},
   "source": [
    "### Conclusion"
   ]
  },
  {
   "cell_type": "markdown",
   "id": "b64addc4",
   "metadata": {},
   "source": [
    "### As p-value = 1.2455678861892716e-64, p-value < 0.05, we can reject Null Hypothesis with 95% CL and Accept Alternate Hypothesis.\n",
    "### There is a relationship between Interest Rate and Loan Amount. "
   ]
  },
  {
   "cell_type": "code",
   "execution_count": null,
   "id": "05337299",
   "metadata": {},
   "outputs": [],
   "source": []
  },
  {
   "cell_type": "markdown",
   "id": "c1c791c2",
   "metadata": {},
   "source": [
    "### b. Loan length is directly effecting interest rate"
   ]
  },
  {
   "cell_type": "markdown",
   "id": "faf24777",
   "metadata": {},
   "source": [
    "#### Defining Hypothesis:"
   ]
  },
  {
   "cell_type": "raw",
   "id": "531c2245",
   "metadata": {},
   "source": [
    "H0(Null-Hypothesis) : No direct relationship between Loan Length and Interest Rate. \n",
    "    \n",
    "Ha(Alternate Hypothesis): There is a direct relationship between Loan Length and Interest Rate. \n",
    "\n",
    "Confidence Level : 95 %\n",
    "If p_value < 0.05, to reject Null Hypothesis\n",
    "\n",
    "Type of Test: Independent t-test"
   ]
  },
  {
   "cell_type": "code",
   "execution_count": 19,
   "id": "253781bd",
   "metadata": {},
   "outputs": [
    {
     "data": {
      "text/plain": [
       "36    1941\n",
       "60     548\n",
       "Name: Loan_Length, dtype: int64"
      ]
     },
     "execution_count": 19,
     "metadata": {},
     "output_type": "execute_result"
    }
   ],
   "source": [
    "Loans_Data.Loan_Length.value_counts()"
   ]
  },
  {
   "cell_type": "code",
   "execution_count": 20,
   "id": "cba3c4ac",
   "metadata": {},
   "outputs": [],
   "source": [
    "Loan_Length36=Loans_Data['Interest_Rate'].loc[Loans_Data['Loan_Length']==36]\n",
    "Loan_Length60=Loans_Data['Interest_Rate'].loc[Loans_Data['Loan_Length']==60]\n"
   ]
  },
  {
   "cell_type": "code",
   "execution_count": 21,
   "id": "90e3aefc",
   "metadata": {},
   "outputs": [
    {
     "data": {
      "text/plain": [
       "12.128907779495213"
      ]
     },
     "execution_count": 21,
     "metadata": {},
     "output_type": "execute_result"
    }
   ],
   "source": [
    "Loan_Length36.mean()"
   ]
  },
  {
   "cell_type": "code",
   "execution_count": 22,
   "id": "132070ac",
   "metadata": {},
   "outputs": [
    {
     "data": {
      "text/plain": [
       "16.40746350364961"
      ]
     },
     "execution_count": 22,
     "metadata": {},
     "output_type": "execute_result"
    }
   ],
   "source": [
    "Loan_Length60.mean()"
   ]
  },
  {
   "cell_type": "markdown",
   "id": "326e3e52",
   "metadata": {},
   "source": [
    "#### Performing the Test:"
   ]
  },
  {
   "cell_type": "code",
   "execution_count": 23,
   "id": "15bc60f4",
   "metadata": {},
   "outputs": [
    {
     "data": {
      "text/plain": [
       "Ttest_indResult(statistic=-23.37963620691779, pvalue=1.9132344351585912e-109)"
      ]
     },
     "execution_count": 23,
     "metadata": {},
     "output_type": "execute_result"
    }
   ],
   "source": [
    "stats.ttest_ind(Loan_Length36,Loan_Length60)"
   ]
  },
  {
   "cell_type": "markdown",
   "id": "5a3e409c",
   "metadata": {},
   "source": [
    "### Conclusion:"
   ]
  },
  {
   "cell_type": "markdown",
   "id": "0e9f07c3",
   "metadata": {},
   "source": [
    "### As p-value=1.9132344351585912e-109, p-value < 0.05, So, we can reject Null hypothesis and accept alternate hypothesis.\n",
    "### Hence, Loan length is directly effecting interest rate"
   ]
  },
  {
   "cell_type": "code",
   "execution_count": null,
   "id": "827a37a2",
   "metadata": {},
   "outputs": [],
   "source": []
  },
  {
   "cell_type": "markdown",
   "id": "70a730d0",
   "metadata": {},
   "source": [
    "### c. Interest rate varies for different purpose of loans"
   ]
  },
  {
   "cell_type": "markdown",
   "id": "cdd37b7e",
   "metadata": {},
   "source": [
    "#### Defining Hypothesis:"
   ]
  },
  {
   "cell_type": "raw",
   "id": "44782ca1",
   "metadata": {},
   "source": [
    "H0(Null-Hypothesis) : Interest rate does not vary with purpose of Loans.\n",
    "    \n",
    "Ha(Alternate Hypothesis): Interest rate does Vary with purpose of Loans.\n",
    "\n",
    "Confidence Level : 95 %\n",
    "If p_value < 0.05, to reject Null Hypothesis\n",
    "\n",
    "Type of Test: f-test"
   ]
  },
  {
   "cell_type": "code",
   "execution_count": 24,
   "id": "00adbce4",
   "metadata": {},
   "outputs": [
    {
     "data": {
      "text/plain": [
       "debt_consolidation    1301\n",
       "credit_card            443\n",
       "other                  199\n",
       "home_improvement       152\n",
       "major_purchase         101\n",
       "small_business          86\n",
       "car                     50\n",
       "wedding                 38\n",
       "medical                 30\n",
       "moving                  29\n",
       "vacation                21\n",
       "house                   20\n",
       "educational             15\n",
       "renewable_energy         4\n",
       "Name: Loan_Purpose, dtype: Int64"
      ]
     },
     "execution_count": 24,
     "metadata": {},
     "output_type": "execute_result"
    }
   ],
   "source": [
    "Loans_Data.Loan_Purpose.value_counts()"
   ]
  },
  {
   "cell_type": "code",
   "execution_count": 25,
   "id": "7048eea6",
   "metadata": {},
   "outputs": [
    {
     "data": {
      "text/html": [
       "<div>\n",
       "<style scoped>\n",
       "    .dataframe tbody tr th:only-of-type {\n",
       "        vertical-align: middle;\n",
       "    }\n",
       "\n",
       "    .dataframe tbody tr th {\n",
       "        vertical-align: top;\n",
       "    }\n",
       "\n",
       "    .dataframe thead th {\n",
       "        text-align: right;\n",
       "    }\n",
       "</style>\n",
       "<table border=\"1\" class=\"dataframe\">\n",
       "  <thead>\n",
       "    <tr style=\"text-align: right;\">\n",
       "      <th></th>\n",
       "      <th>Loan_Purpose</th>\n",
       "      <th>Interest_Rate</th>\n",
       "    </tr>\n",
       "  </thead>\n",
       "  <tbody>\n",
       "    <tr>\n",
       "      <th>0</th>\n",
       "      <td>car</td>\n",
       "      <td>11.113000</td>\n",
       "    </tr>\n",
       "    <tr>\n",
       "      <th>1</th>\n",
       "      <td>credit_card</td>\n",
       "      <td>13.050655</td>\n",
       "    </tr>\n",
       "    <tr>\n",
       "      <th>2</th>\n",
       "      <td>debt_consolidation</td>\n",
       "      <td>13.589147</td>\n",
       "    </tr>\n",
       "    <tr>\n",
       "      <th>3</th>\n",
       "      <td>educational</td>\n",
       "      <td>11.007333</td>\n",
       "    </tr>\n",
       "    <tr>\n",
       "      <th>4</th>\n",
       "      <td>home_improvement</td>\n",
       "      <td>11.594276</td>\n",
       "    </tr>\n",
       "    <tr>\n",
       "      <th>5</th>\n",
       "      <td>house</td>\n",
       "      <td>13.448000</td>\n",
       "    </tr>\n",
       "    <tr>\n",
       "      <th>6</th>\n",
       "      <td>major_purchase</td>\n",
       "      <td>10.797822</td>\n",
       "    </tr>\n",
       "    <tr>\n",
       "      <th>7</th>\n",
       "      <td>medical</td>\n",
       "      <td>11.649667</td>\n",
       "    </tr>\n",
       "    <tr>\n",
       "      <th>8</th>\n",
       "      <td>moving</td>\n",
       "      <td>13.621034</td>\n",
       "    </tr>\n",
       "    <tr>\n",
       "      <th>9</th>\n",
       "      <td>other</td>\n",
       "      <td>13.202814</td>\n",
       "    </tr>\n",
       "    <tr>\n",
       "      <th>10</th>\n",
       "      <td>renewable_energy</td>\n",
       "      <td>9.877500</td>\n",
       "    </tr>\n",
       "    <tr>\n",
       "      <th>11</th>\n",
       "      <td>small_business</td>\n",
       "      <td>12.901163</td>\n",
       "    </tr>\n",
       "    <tr>\n",
       "      <th>12</th>\n",
       "      <td>vacation</td>\n",
       "      <td>11.966190</td>\n",
       "    </tr>\n",
       "    <tr>\n",
       "      <th>13</th>\n",
       "      <td>wedding</td>\n",
       "      <td>12.047105</td>\n",
       "    </tr>\n",
       "  </tbody>\n",
       "</table>\n",
       "</div>"
      ],
      "text/plain": [
       "          Loan_Purpose  Interest_Rate\n",
       "0                  car      11.113000\n",
       "1          credit_card      13.050655\n",
       "2   debt_consolidation      13.589147\n",
       "3          educational      11.007333\n",
       "4     home_improvement      11.594276\n",
       "5                house      13.448000\n",
       "6       major_purchase      10.797822\n",
       "7              medical      11.649667\n",
       "8               moving      13.621034\n",
       "9                other      13.202814\n",
       "10    renewable_energy       9.877500\n",
       "11      small_business      12.901163\n",
       "12            vacation      11.966190\n",
       "13             wedding      12.047105"
      ]
     },
     "execution_count": 25,
     "metadata": {},
     "output_type": "execute_result"
    }
   ],
   "source": [
    "LP=Loans_Data.groupby('Loan_Purpose')[['Interest_Rate']].mean().reset_index()\n",
    "LP"
   ]
  },
  {
   "cell_type": "code",
   "execution_count": 26,
   "id": "04c0c201",
   "metadata": {},
   "outputs": [],
   "source": [
    "l1=Loans_Data.query('Loan_Purpose==\"debt_consolidation\"').Interest_Rate\n",
    "l2=Loans_Data.query('Loan_Purpose==\"credit_card\"').Interest_Rate\n",
    "l3=Loans_Data.query('Loan_Purpose==\"other\"').Interest_Rate\n",
    "l4=Loans_Data.query('Loan_Purpose==\"home_improvement\"').Interest_Rate\n",
    "l5=Loans_Data.query('Loan_Purpose==\"major_purchase\"').Interest_Rate\n",
    "l6=Loans_Data.query('Loan_Purpose==\"small_business\"').Interest_Rate            \n",
    "l7=Loans_Data.query('Loan_Purpose==\"car\"').Interest_Rate\n",
    "l8=Loans_Data.query('Loan_Purpose==\"wedding\"').Interest_Rate\n",
    "l9=Loans_Data.query('Loan_Purpose==\"medical\"').Interest_Rate\n",
    "l10=Loans_Data.query('Loan_Purpose==\"moving\"').Interest_Rate\n",
    "l11=Loans_Data.query('Loan_Purpose==\"vacation\"').Interest_Rate\n",
    "l12=Loans_Data.query('Loan_Purpose==\"house\"').Interest_Rate\n",
    "l13=Loans_Data.query('Loan_Purpose==\"educational\"').Interest_Rate\n",
    "l14=Loans_Data.query('Loan_Purpose==\"renewable_energy\"').Interest_Rate  "
   ]
  },
  {
   "cell_type": "markdown",
   "id": "6bf1880c",
   "metadata": {},
   "source": [
    "#### Performing the test:"
   ]
  },
  {
   "cell_type": "code",
   "execution_count": 27,
   "id": "3b43e087",
   "metadata": {},
   "outputs": [
    {
     "data": {
      "text/plain": [
       "F_onewayResult(statistic=7.487175499510107, pvalue=1.1346364693350775e-14)"
      ]
     },
     "execution_count": 27,
     "metadata": {},
     "output_type": "execute_result"
    }
   ],
   "source": [
    "stats.f_oneway(l1,l2,l3,l4,l5,l6,l7,l8,l9,l10,l11,l12,l13,l14)"
   ]
  },
  {
   "cell_type": "markdown",
   "id": "b177215d",
   "metadata": {},
   "source": [
    "### Conclusion:"
   ]
  },
  {
   "cell_type": "markdown",
   "id": "e3451796",
   "metadata": {},
   "source": [
    "### As p-value=1.1346364693350775e-14, p-value < 0.05, So, we can reject Null hypothesis and accept alternate hypothesis.\n",
    "### Hence, Interest Rate vary with the purpose of Loans."
   ]
  },
  {
   "cell_type": "code",
   "execution_count": null,
   "id": "663f77b3",
   "metadata": {},
   "outputs": [],
   "source": []
  },
  {
   "cell_type": "markdown",
   "id": "4de2340f",
   "metadata": {},
   "source": [
    "### d. There is relationship between FICO scores and Home Ownership. It means that, People \n",
    "### with owning home will have high FICO scores."
   ]
  },
  {
   "cell_type": "markdown",
   "id": "15e563a5",
   "metadata": {},
   "source": [
    "#### Defining Hypothesis:"
   ]
  },
  {
   "cell_type": "raw",
   "id": "df9ff176",
   "metadata": {},
   "source": [
    "H0(Null-Hypothesis) : No relationship between FICO scores and Home ownership.\n",
    "    \n",
    "Ha(Alternate Hypothesis): There is a  relationship between FICO scores and Home ownership.\n",
    "\n",
    "Confidence Level : 95 %\n",
    "If p_value < 0.05, to reject Null Hypothesis\n",
    "\n",
    "Type of Test: Chi-square test"
   ]
  },
  {
   "cell_type": "code",
   "execution_count": 28,
   "id": "fa3d447a",
   "metadata": {},
   "outputs": [
    {
     "data": {
      "text/html": [
       "<div>\n",
       "<style scoped>\n",
       "    .dataframe tbody tr th:only-of-type {\n",
       "        vertical-align: middle;\n",
       "    }\n",
       "\n",
       "    .dataframe tbody tr th {\n",
       "        vertical-align: top;\n",
       "    }\n",
       "\n",
       "    .dataframe thead th {\n",
       "        text-align: right;\n",
       "    }\n",
       "</style>\n",
       "<table border=\"1\" class=\"dataframe\">\n",
       "  <thead>\n",
       "    <tr style=\"text-align: right;\">\n",
       "      <th>FICO_Range</th>\n",
       "      <th>640-644</th>\n",
       "      <th>645-649</th>\n",
       "      <th>650-654</th>\n",
       "      <th>655-659</th>\n",
       "      <th>660-664</th>\n",
       "      <th>665-669</th>\n",
       "      <th>670-674</th>\n",
       "      <th>675-679</th>\n",
       "      <th>680-684</th>\n",
       "      <th>685-689</th>\n",
       "      <th>...</th>\n",
       "      <th>780-784</th>\n",
       "      <th>785-789</th>\n",
       "      <th>790-794</th>\n",
       "      <th>795-799</th>\n",
       "      <th>800-804</th>\n",
       "      <th>805-809</th>\n",
       "      <th>810-814</th>\n",
       "      <th>815-819</th>\n",
       "      <th>820-824</th>\n",
       "      <th>830-834</th>\n",
       "    </tr>\n",
       "    <tr>\n",
       "      <th>Home_Ownership</th>\n",
       "      <th></th>\n",
       "      <th></th>\n",
       "      <th></th>\n",
       "      <th></th>\n",
       "      <th></th>\n",
       "      <th></th>\n",
       "      <th></th>\n",
       "      <th></th>\n",
       "      <th></th>\n",
       "      <th></th>\n",
       "      <th></th>\n",
       "      <th></th>\n",
       "      <th></th>\n",
       "      <th></th>\n",
       "      <th></th>\n",
       "      <th></th>\n",
       "      <th></th>\n",
       "      <th></th>\n",
       "      <th></th>\n",
       "      <th></th>\n",
       "      <th></th>\n",
       "    </tr>\n",
       "  </thead>\n",
       "  <tbody>\n",
       "    <tr>\n",
       "      <th>MORTGAGE</th>\n",
       "      <td>0</td>\n",
       "      <td>1</td>\n",
       "      <td>1</td>\n",
       "      <td>0</td>\n",
       "      <td>41</td>\n",
       "      <td>52</td>\n",
       "      <td>67</td>\n",
       "      <td>79</td>\n",
       "      <td>55</td>\n",
       "      <td>61</td>\n",
       "      <td>...</td>\n",
       "      <td>21</td>\n",
       "      <td>12</td>\n",
       "      <td>15</td>\n",
       "      <td>7</td>\n",
       "      <td>7</td>\n",
       "      <td>6</td>\n",
       "      <td>5</td>\n",
       "      <td>6</td>\n",
       "      <td>0</td>\n",
       "      <td>1</td>\n",
       "    </tr>\n",
       "    <tr>\n",
       "      <th>OTHER</th>\n",
       "      <td>0</td>\n",
       "      <td>0</td>\n",
       "      <td>0</td>\n",
       "      <td>1</td>\n",
       "      <td>0</td>\n",
       "      <td>0</td>\n",
       "      <td>1</td>\n",
       "      <td>1</td>\n",
       "      <td>2</td>\n",
       "      <td>0</td>\n",
       "      <td>...</td>\n",
       "      <td>0</td>\n",
       "      <td>0</td>\n",
       "      <td>0</td>\n",
       "      <td>0</td>\n",
       "      <td>0</td>\n",
       "      <td>0</td>\n",
       "      <td>0</td>\n",
       "      <td>0</td>\n",
       "      <td>0</td>\n",
       "      <td>0</td>\n",
       "    </tr>\n",
       "    <tr>\n",
       "      <th>OWN</th>\n",
       "      <td>1</td>\n",
       "      <td>0</td>\n",
       "      <td>0</td>\n",
       "      <td>0</td>\n",
       "      <td>17</td>\n",
       "      <td>18</td>\n",
       "      <td>13</td>\n",
       "      <td>11</td>\n",
       "      <td>9</td>\n",
       "      <td>10</td>\n",
       "      <td>...</td>\n",
       "      <td>3</td>\n",
       "      <td>2</td>\n",
       "      <td>1</td>\n",
       "      <td>1</td>\n",
       "      <td>3</td>\n",
       "      <td>2</td>\n",
       "      <td>1</td>\n",
       "      <td>0</td>\n",
       "      <td>1</td>\n",
       "      <td>0</td>\n",
       "    </tr>\n",
       "    <tr>\n",
       "      <th>RENT</th>\n",
       "      <td>4</td>\n",
       "      <td>2</td>\n",
       "      <td>0</td>\n",
       "      <td>3</td>\n",
       "      <td>66</td>\n",
       "      <td>75</td>\n",
       "      <td>89</td>\n",
       "      <td>75</td>\n",
       "      <td>91</td>\n",
       "      <td>64</td>\n",
       "      <td>...</td>\n",
       "      <td>4</td>\n",
       "      <td>5</td>\n",
       "      <td>4</td>\n",
       "      <td>5</td>\n",
       "      <td>2</td>\n",
       "      <td>3</td>\n",
       "      <td>2</td>\n",
       "      <td>0</td>\n",
       "      <td>0</td>\n",
       "      <td>0</td>\n",
       "    </tr>\n",
       "  </tbody>\n",
       "</table>\n",
       "<p>4 rows × 38 columns</p>\n",
       "</div>"
      ],
      "text/plain": [
       "FICO_Range      640-644  645-649  650-654  655-659  660-664  665-669  670-674  \\\n",
       "Home_Ownership                                                                  \n",
       "MORTGAGE              0        1        1        0       41       52       67   \n",
       "OTHER                 0        0        0        1        0        0        1   \n",
       "OWN                   1        0        0        0       17       18       13   \n",
       "RENT                  4        2        0        3       66       75       89   \n",
       "\n",
       "FICO_Range      675-679  680-684  685-689  ...  780-784  785-789  790-794  \\\n",
       "Home_Ownership                             ...                              \n",
       "MORTGAGE             79       55       61  ...       21       12       15   \n",
       "OTHER                 1        2        0  ...        0        0        0   \n",
       "OWN                  11        9       10  ...        3        2        1   \n",
       "RENT                 75       91       64  ...        4        5        4   \n",
       "\n",
       "FICO_Range      795-799  800-804  805-809  810-814  815-819  820-824  830-834  \n",
       "Home_Ownership                                                                 \n",
       "MORTGAGE              7        7        6        5        6        0        1  \n",
       "OTHER                 0        0        0        0        0        0        0  \n",
       "OWN                   1        3        2        1        0        1        0  \n",
       "RENT                  5        2        3        2        0        0        0  \n",
       "\n",
       "[4 rows x 38 columns]"
      ]
     },
     "execution_count": 28,
     "metadata": {},
     "output_type": "execute_result"
    }
   ],
   "source": [
    "Home_Fico=pd.crosstab(Loans_Data.Home_Ownership,Loans_Data.FICO_Range)\n",
    "Home_Fico"
   ]
  },
  {
   "cell_type": "markdown",
   "id": "acbf0656",
   "metadata": {},
   "source": [
    "#### Performing the Test:"
   ]
  },
  {
   "cell_type": "code",
   "execution_count": 29,
   "id": "b8c0f7f0",
   "metadata": {},
   "outputs": [
    {
     "data": {
      "text/plain": [
       "(281.6125223416783,\n",
       " 8.424183189199129e-17,\n",
       " 111,\n",
       " array([[2.29811169e+00, 1.37886701e+00, 4.59622338e-01, 1.83848935e+00,\n",
       "         5.69931699e+01, 6.66452391e+01, 7.81357975e+01, 7.62973082e+01,\n",
       "         7.21607071e+01, 6.20490157e+01, 6.38875050e+01, 7.03222178e+01,\n",
       "         6.02105263e+01, 6.15893933e+01, 5.05584572e+01, 4.27448775e+01,\n",
       "         5.14777019e+01, 4.32044998e+01, 4.32044998e+01, 2.98754520e+01,\n",
       "         2.43599839e+01, 2.48196063e+01, 2.80369626e+01, 2.11426276e+01,\n",
       "         2.11426276e+01, 1.65464042e+01, 7.81357975e+00, 1.01116914e+01,\n",
       "         1.28694255e+01, 8.73282443e+00, 9.19244677e+00, 5.97509040e+00,\n",
       "         5.51546806e+00, 5.05584572e+00, 3.67697871e+00, 2.75773403e+00,\n",
       "         4.59622338e-01, 4.59622338e-01],\n",
       "        [1.00441945e-02, 6.02651667e-03, 2.00883889e-03, 8.03535556e-03,\n",
       "         2.49096022e-01, 2.91281639e-01, 3.41502611e-01, 3.33467256e-01,\n",
       "         3.15387706e-01, 2.71193250e-01, 2.79228606e-01, 3.07352350e-01,\n",
       "         2.63157895e-01, 2.69184411e-01, 2.20972278e-01, 1.86822017e-01,\n",
       "         2.24989956e-01, 1.88830856e-01, 1.88830856e-01, 1.30574528e-01,\n",
       "         1.06468461e-01, 1.08477300e-01, 1.22539172e-01, 9.24065890e-02,\n",
       "         9.24065890e-02, 7.23182001e-02, 3.41502611e-02, 4.41944556e-02,\n",
       "         5.62474890e-02, 3.81679389e-02, 4.01767778e-02, 2.61149056e-02,\n",
       "         2.41060667e-02, 2.20972278e-02, 1.60707111e-02, 1.20530333e-02,\n",
       "         2.00883889e-03, 2.00883889e-03],\n",
       "        [4.01767778e-01, 2.41060667e-01, 8.03535556e-02, 3.21414223e-01,\n",
       "         9.96384090e+00, 1.16512656e+01, 1.36601045e+01, 1.33386902e+01,\n",
       "         1.26155082e+01, 1.08477300e+01, 1.11691442e+01, 1.22940940e+01,\n",
       "         1.05263158e+01, 1.07673765e+01, 8.83889112e+00, 7.47288067e+00,\n",
       "         8.99959823e+00, 7.55323423e+00, 7.55323423e+00, 5.22298112e+00,\n",
       "         4.25873845e+00, 4.33909200e+00, 4.90156689e+00, 3.69626356e+00,\n",
       "         3.69626356e+00, 2.89272800e+00, 1.36601045e+00, 1.76777822e+00,\n",
       "         2.24989956e+00, 1.52671756e+00, 1.60707111e+00, 1.04459622e+00,\n",
       "         9.64242668e-01, 8.83889112e-01, 6.42828445e-01, 4.82121334e-01,\n",
       "         8.03535556e-02, 8.03535556e-02],\n",
       "        [2.29007634e+00, 1.37404580e+00, 4.58015267e-01, 1.83206107e+00,\n",
       "         5.67938931e+01, 6.64122137e+01, 7.78625954e+01, 7.60305344e+01,\n",
       "         7.19083969e+01, 6.18320611e+01, 6.36641221e+01, 7.00763359e+01,\n",
       "         6.00000000e+01, 6.13740458e+01, 5.03816794e+01, 4.25954198e+01,\n",
       "         5.12977099e+01, 4.30534351e+01, 4.30534351e+01, 2.97709924e+01,\n",
       "         2.42748092e+01, 2.47328244e+01, 2.79389313e+01, 2.10687023e+01,\n",
       "         2.10687023e+01, 1.64885496e+01, 7.78625954e+00, 1.00763359e+01,\n",
       "         1.28244275e+01, 8.70229008e+00, 9.16030534e+00, 5.95419847e+00,\n",
       "         5.49618321e+00, 5.03816794e+00, 3.66412214e+00, 2.74809160e+00,\n",
       "         4.58015267e-01, 4.58015267e-01]]))"
      ]
     },
     "execution_count": 29,
     "metadata": {},
     "output_type": "execute_result"
    }
   ],
   "source": [
    "Chi=stats.chi2_contingency(Home_Fico)\n",
    "Chi"
   ]
  },
  {
   "cell_type": "markdown",
   "id": "51ce5334",
   "metadata": {},
   "source": [
    "### Conclusion:"
   ]
  },
  {
   "cell_type": "markdown",
   "id": "e883cb42",
   "metadata": {},
   "source": [
    "### As p-value=8.424183189199129e-17, p-value < 0.05, we can reject Null Hypothesis.\n",
    "### So, there is a relationship betweeen FICO score and Home Ownership."
   ]
  },
  {
   "cell_type": "markdown",
   "id": "a045fe24",
   "metadata": {},
   "source": [
    "## Business Problem-2"
   ]
  },
  {
   "cell_type": "code",
   "execution_count": 30,
   "id": "4cd6c37b",
   "metadata": {},
   "outputs": [
    {
     "data": {
      "text/html": [
       "<div>\n",
       "<style scoped>\n",
       "    .dataframe tbody tr th:only-of-type {\n",
       "        vertical-align: middle;\n",
       "    }\n",
       "\n",
       "    .dataframe tbody tr th {\n",
       "        vertical-align: top;\n",
       "    }\n",
       "\n",
       "    .dataframe thead th {\n",
       "        text-align: right;\n",
       "    }\n",
       "</style>\n",
       "<table border=\"1\" class=\"dataframe\">\n",
       "  <thead>\n",
       "    <tr style=\"text-align: right;\">\n",
       "      <th></th>\n",
       "      <th>Order_Number</th>\n",
       "      <th>Barry_Price</th>\n",
       "      <th>Mary_Price</th>\n",
       "    </tr>\n",
       "  </thead>\n",
       "  <tbody>\n",
       "    <tr>\n",
       "      <th>0</th>\n",
       "      <td>1</td>\n",
       "      <td>126</td>\n",
       "      <td>114</td>\n",
       "    </tr>\n",
       "    <tr>\n",
       "      <th>1</th>\n",
       "      <td>2</td>\n",
       "      <td>110</td>\n",
       "      <td>118</td>\n",
       "    </tr>\n",
       "    <tr>\n",
       "      <th>2</th>\n",
       "      <td>3</td>\n",
       "      <td>138</td>\n",
       "      <td>114</td>\n",
       "    </tr>\n",
       "    <tr>\n",
       "      <th>3</th>\n",
       "      <td>4</td>\n",
       "      <td>142</td>\n",
       "      <td>111</td>\n",
       "    </tr>\n",
       "    <tr>\n",
       "      <th>4</th>\n",
       "      <td>5</td>\n",
       "      <td>146</td>\n",
       "      <td>129</td>\n",
       "    </tr>\n",
       "    <tr>\n",
       "      <th>5</th>\n",
       "      <td>6</td>\n",
       "      <td>136</td>\n",
       "      <td>119</td>\n",
       "    </tr>\n",
       "    <tr>\n",
       "      <th>6</th>\n",
       "      <td>7</td>\n",
       "      <td>94</td>\n",
       "      <td>97</td>\n",
       "    </tr>\n",
       "    <tr>\n",
       "      <th>7</th>\n",
       "      <td>8</td>\n",
       "      <td>103</td>\n",
       "      <td>104</td>\n",
       "    </tr>\n",
       "    <tr>\n",
       "      <th>8</th>\n",
       "      <td>9</td>\n",
       "      <td>140</td>\n",
       "      <td>127</td>\n",
       "    </tr>\n",
       "    <tr>\n",
       "      <th>9</th>\n",
       "      <td>10</td>\n",
       "      <td>152</td>\n",
       "      <td>133</td>\n",
       "    </tr>\n",
       "    <tr>\n",
       "      <th>10</th>\n",
       "      <td>11</td>\n",
       "      <td>108</td>\n",
       "      <td>103</td>\n",
       "    </tr>\n",
       "    <tr>\n",
       "      <th>11</th>\n",
       "      <td>12</td>\n",
       "      <td>97</td>\n",
       "      <td>108</td>\n",
       "    </tr>\n",
       "  </tbody>\n",
       "</table>\n",
       "</div>"
      ],
      "text/plain": [
       "    Order_Number  Barry_Price  Mary_Price\n",
       "0              1          126         114\n",
       "1              2          110         118\n",
       "2              3          138         114\n",
       "3              4          142         111\n",
       "4              5          146         129\n",
       "5              6          136         119\n",
       "6              7           94          97\n",
       "7              8          103         104\n",
       "8              9          140         127\n",
       "9             10          152         133\n",
       "10            11          108         103\n",
       "11            12           97         108"
      ]
     },
     "execution_count": 30,
     "metadata": {},
     "output_type": "execute_result"
    }
   ],
   "source": [
    "Price_Quotes=pd.read_csv(r'Price_Quotes.csv').convert_dtypes()\n",
    "Price_Quotes"
   ]
  },
  {
   "cell_type": "code",
   "execution_count": 31,
   "id": "10b8ab74",
   "metadata": {},
   "outputs": [
    {
     "name": "stdout",
     "output_type": "stream",
     "text": [
      "<class 'pandas.core.frame.DataFrame'>\n",
      "RangeIndex: 12 entries, 0 to 11\n",
      "Data columns (total 3 columns):\n",
      " #   Column        Non-Null Count  Dtype\n",
      "---  ------        --------------  -----\n",
      " 0   Order_Number  12 non-null     Int64\n",
      " 1   Barry_Price   12 non-null     Int64\n",
      " 2   Mary_Price    12 non-null     Int64\n",
      "dtypes: Int64(3)\n",
      "memory usage: 452.0 bytes\n"
     ]
    }
   ],
   "source": [
    "Price_Quotes.info()"
   ]
  },
  {
   "cell_type": "code",
   "execution_count": 32,
   "id": "981fcf53",
   "metadata": {},
   "outputs": [
    {
     "data": {
      "text/plain": [
       "Order_Number    0\n",
       "Barry_Price     0\n",
       "Mary_Price      0\n",
       "dtype: int64"
      ]
     },
     "execution_count": 32,
     "metadata": {},
     "output_type": "execute_result"
    }
   ],
   "source": [
    "Price_Quotes.isna().sum()"
   ]
  },
  {
   "cell_type": "markdown",
   "id": "cb4cd4e1",
   "metadata": {},
   "source": [
    "### BUSINESS PROBLEM: We would like to assess if there is any difference in the average \n",
    "### price quotes provided by Mary and Barry"
   ]
  },
  {
   "cell_type": "markdown",
   "id": "a0f18626",
   "metadata": {},
   "source": [
    "#### Defining Hypothesis:"
   ]
  },
  {
   "cell_type": "raw",
   "id": "78aa9347",
   "metadata": {},
   "source": [
    "H0(Null-Hypothesis) : There is No difference between the average price quoted by Mary and Bary.\n",
    "    \n",
    "Ha(Alternate Hypothesis): There is a difference between the average price quoted by Mary and Bary.\n",
    "\n",
    "Confidence Level : 95 %\n",
    "If p_value < 0.05, to reject Null Hypothesis\n",
    "\n",
    "Type of Test: Paired sample t-test"
   ]
  },
  {
   "cell_type": "code",
   "execution_count": null,
   "id": "0309573c",
   "metadata": {},
   "outputs": [],
   "source": []
  },
  {
   "cell_type": "code",
   "execution_count": 33,
   "id": "6236aaed",
   "metadata": {},
   "outputs": [
    {
     "data": {
      "text/plain": [
       "124.33333333333333"
      ]
     },
     "execution_count": 33,
     "metadata": {},
     "output_type": "execute_result"
    }
   ],
   "source": [
    "Price_Quotes.Barry_Price.mean()"
   ]
  },
  {
   "cell_type": "code",
   "execution_count": 34,
   "id": "7a9c13e6",
   "metadata": {},
   "outputs": [
    {
     "data": {
      "text/plain": [
       "114.75"
      ]
     },
     "execution_count": 34,
     "metadata": {},
     "output_type": "execute_result"
    }
   ],
   "source": [
    "Price_Quotes.Mary_Price.mean()"
   ]
  },
  {
   "cell_type": "markdown",
   "id": "dd3fb5a8",
   "metadata": {},
   "source": [
    "#### Performing the Test:"
   ]
  },
  {
   "cell_type": "code",
   "execution_count": 35,
   "id": "df3a5c7a",
   "metadata": {},
   "outputs": [
    {
     "data": {
      "text/plain": [
       "Ttest_relResult(statistic=2.521376510892349, pvalue=0.02840588045242053)"
      ]
     },
     "execution_count": 35,
     "metadata": {},
     "output_type": "execute_result"
    }
   ],
   "source": [
    "stats.ttest_rel(Price_Quotes.Barry_Price,Price_Quotes.Mary_Price)"
   ]
  },
  {
   "cell_type": "markdown",
   "id": "bd138ac9",
   "metadata": {},
   "source": [
    "### Conclusion:"
   ]
  },
  {
   "cell_type": "markdown",
   "id": "6019faa2",
   "metadata": {},
   "source": [
    "### As, p-value=0.02840588045242053, p-value <  0.05. So, we can reject Null Hypothesis.\n",
    "### Hence, There is a significant difference between average price quoted by Mary and Barry."
   ]
  },
  {
   "cell_type": "markdown",
   "id": "1bd97bef",
   "metadata": {},
   "source": [
    "## BUSINESS PROBLEM-3:"
   ]
  },
  {
   "cell_type": "code",
   "execution_count": 36,
   "id": "cab46fc8",
   "metadata": {},
   "outputs": [
    {
     "data": {
      "text/html": [
       "<div>\n",
       "<style scoped>\n",
       "    .dataframe tbody tr th:only-of-type {\n",
       "        vertical-align: middle;\n",
       "    }\n",
       "\n",
       "    .dataframe tbody tr th {\n",
       "        vertical-align: top;\n",
       "    }\n",
       "\n",
       "    .dataframe thead th {\n",
       "        text-align: right;\n",
       "    }\n",
       "</style>\n",
       "<table border=\"1\" class=\"dataframe\">\n",
       "  <thead>\n",
       "    <tr style=\"text-align: right;\">\n",
       "      <th></th>\n",
       "      <th>Month</th>\n",
       "      <th>Reengineer</th>\n",
       "      <th>Employee_Turnover</th>\n",
       "      <th>VAR4</th>\n",
       "      <th>VAR5</th>\n",
       "    </tr>\n",
       "  </thead>\n",
       "  <tbody>\n",
       "    <tr>\n",
       "      <th>0</th>\n",
       "      <td>1</td>\n",
       "      <td>Prior</td>\n",
       "      <td>0.0</td>\n",
       "      <td>24.390244</td>\n",
       "      <td>42.682927</td>\n",
       "    </tr>\n",
       "    <tr>\n",
       "      <th>1</th>\n",
       "      <td>2</td>\n",
       "      <td>Prior</td>\n",
       "      <td>6.0606</td>\n",
       "      <td>19.354839</td>\n",
       "      <td>25.806452</td>\n",
       "    </tr>\n",
       "    <tr>\n",
       "      <th>2</th>\n",
       "      <td>3</td>\n",
       "      <td>Prior</td>\n",
       "      <td>12.1212</td>\n",
       "      <td>35.087719</td>\n",
       "      <td>146.19883</td>\n",
       "    </tr>\n",
       "    <tr>\n",
       "      <th>3</th>\n",
       "      <td>4</td>\n",
       "      <td>Prior</td>\n",
       "      <td>3.3333</td>\n",
       "      <td>18.404908</td>\n",
       "      <td>110.429448</td>\n",
       "    </tr>\n",
       "    <tr>\n",
       "      <th>4</th>\n",
       "      <td>5</td>\n",
       "      <td>Prior</td>\n",
       "      <td>12.9032</td>\n",
       "      <td>17.964072</td>\n",
       "      <td>23.952096</td>\n",
       "    </tr>\n",
       "    <tr>\n",
       "      <th>5</th>\n",
       "      <td>6</td>\n",
       "      <td>Prior</td>\n",
       "      <td>9.6774</td>\n",
       "      <td>41.176471</td>\n",
       "      <td>47.058824</td>\n",
       "    </tr>\n",
       "    <tr>\n",
       "      <th>6</th>\n",
       "      <td>7</td>\n",
       "      <td>Prior</td>\n",
       "      <td>11.7647</td>\n",
       "      <td>13.422819</td>\n",
       "      <td>0.0</td>\n",
       "    </tr>\n",
       "    <tr>\n",
       "      <th>7</th>\n",
       "      <td>8</td>\n",
       "      <td>Prior</td>\n",
       "      <td>11.4286</td>\n",
       "      <td>31.25</td>\n",
       "      <td>25.0</td>\n",
       "    </tr>\n",
       "    <tr>\n",
       "      <th>8</th>\n",
       "      <td>9</td>\n",
       "      <td>Prior</td>\n",
       "      <td>23.0769</td>\n",
       "      <td>17.241379</td>\n",
       "      <td>132.183908</td>\n",
       "    </tr>\n",
       "    <tr>\n",
       "      <th>9</th>\n",
       "      <td>10</td>\n",
       "      <td>Prior</td>\n",
       "      <td>15.0</td>\n",
       "      <td>16.574586</td>\n",
       "      <td>16.574586</td>\n",
       "    </tr>\n",
       "    <tr>\n",
       "      <th>10</th>\n",
       "      <td>11</td>\n",
       "      <td>Prior</td>\n",
       "      <td>10.0</td>\n",
       "      <td>5.91716</td>\n",
       "      <td>88.757396</td>\n",
       "    </tr>\n",
       "    <tr>\n",
       "      <th>11</th>\n",
       "      <td>12</td>\n",
       "      <td>Prior</td>\n",
       "      <td>26.087</td>\n",
       "      <td>21.164021</td>\n",
       "      <td>31.746032</td>\n",
       "    </tr>\n",
       "    <tr>\n",
       "      <th>12</th>\n",
       "      <td>13</td>\n",
       "      <td>Prior</td>\n",
       "      <td>11.1111</td>\n",
       "      <td>5.076142</td>\n",
       "      <td>10.152284</td>\n",
       "    </tr>\n",
       "    <tr>\n",
       "      <th>13</th>\n",
       "      <td>14</td>\n",
       "      <td>Post</td>\n",
       "      <td>26.6667</td>\n",
       "      <td>9.708738</td>\n",
       "      <td>29.126214</td>\n",
       "    </tr>\n",
       "    <tr>\n",
       "      <th>14</th>\n",
       "      <td>15</td>\n",
       "      <td>Post</td>\n",
       "      <td>17.9487</td>\n",
       "      <td>4.201681</td>\n",
       "      <td>21.008403</td>\n",
       "    </tr>\n",
       "    <tr>\n",
       "      <th>15</th>\n",
       "      <td>16</td>\n",
       "      <td>Post</td>\n",
       "      <td>12.8205</td>\n",
       "      <td>13.043478</td>\n",
       "      <td>34.782609</td>\n",
       "    </tr>\n",
       "    <tr>\n",
       "      <th>16</th>\n",
       "      <td>17</td>\n",
       "      <td>Post</td>\n",
       "      <td>15.7895</td>\n",
       "      <td>9.950249</td>\n",
       "      <td>19.900498</td>\n",
       "    </tr>\n",
       "    <tr>\n",
       "      <th>17</th>\n",
       "      <td>18</td>\n",
       "      <td>Post</td>\n",
       "      <td>0.0</td>\n",
       "      <td>9.950249</td>\n",
       "      <td>9.950249</td>\n",
       "    </tr>\n",
       "    <tr>\n",
       "      <th>18</th>\n",
       "      <td>19</td>\n",
       "      <td>Post</td>\n",
       "      <td>30.7692</td>\n",
       "      <td>8.510638</td>\n",
       "      <td>25.531915</td>\n",
       "    </tr>\n",
       "    <tr>\n",
       "      <th>19</th>\n",
       "      <td>20</td>\n",
       "      <td>Post</td>\n",
       "      <td>26.8293</td>\n",
       "      <td>9.259259</td>\n",
       "      <td>23.148148</td>\n",
       "    </tr>\n",
       "  </tbody>\n",
       "</table>\n",
       "</div>"
      ],
      "text/plain": [
       "    Month Reengineer  Employee_Turnover       VAR4        VAR5\n",
       "0       1      Prior                0.0  24.390244   42.682927\n",
       "1       2      Prior             6.0606  19.354839   25.806452\n",
       "2       3      Prior            12.1212  35.087719   146.19883\n",
       "3       4      Prior             3.3333  18.404908  110.429448\n",
       "4       5      Prior            12.9032  17.964072   23.952096\n",
       "5       6      Prior             9.6774  41.176471   47.058824\n",
       "6       7      Prior            11.7647  13.422819         0.0\n",
       "7       8      Prior            11.4286      31.25        25.0\n",
       "8       9      Prior            23.0769  17.241379  132.183908\n",
       "9      10      Prior               15.0  16.574586   16.574586\n",
       "10     11      Prior               10.0    5.91716   88.757396\n",
       "11     12      Prior             26.087  21.164021   31.746032\n",
       "12     13      Prior            11.1111   5.076142   10.152284\n",
       "13     14       Post            26.6667   9.708738   29.126214\n",
       "14     15       Post            17.9487   4.201681   21.008403\n",
       "15     16       Post            12.8205  13.043478   34.782609\n",
       "16     17       Post            15.7895   9.950249   19.900498\n",
       "17     18       Post                0.0   9.950249    9.950249\n",
       "18     19       Post            30.7692   8.510638   25.531915\n",
       "19     20       Post            26.8293   9.259259   23.148148"
      ]
     },
     "execution_count": 36,
     "metadata": {},
     "output_type": "execute_result"
    }
   ],
   "source": [
    "Treatment_Facility=pd.read_csv(r'Treatment_Facility.csv').convert_dtypes()\n",
    "Treatment_Facility"
   ]
  },
  {
   "cell_type": "code",
   "execution_count": 37,
   "id": "3c8c4b70",
   "metadata": {},
   "outputs": [],
   "source": [
    "Treatment_Facility.rename(columns={'VAR4':'TRFF','VAR5':'CI'},inplace=True)"
   ]
  },
  {
   "cell_type": "code",
   "execution_count": 38,
   "id": "d3a607c7",
   "metadata": {},
   "outputs": [
    {
     "data": {
      "text/html": [
       "<div>\n",
       "<style scoped>\n",
       "    .dataframe tbody tr th:only-of-type {\n",
       "        vertical-align: middle;\n",
       "    }\n",
       "\n",
       "    .dataframe tbody tr th {\n",
       "        vertical-align: top;\n",
       "    }\n",
       "\n",
       "    .dataframe thead th {\n",
       "        text-align: right;\n",
       "    }\n",
       "</style>\n",
       "<table border=\"1\" class=\"dataframe\">\n",
       "  <thead>\n",
       "    <tr style=\"text-align: right;\">\n",
       "      <th></th>\n",
       "      <th>Month</th>\n",
       "      <th>Reengineer</th>\n",
       "      <th>Employee_Turnover</th>\n",
       "      <th>TRFF</th>\n",
       "      <th>CI</th>\n",
       "    </tr>\n",
       "  </thead>\n",
       "  <tbody>\n",
       "    <tr>\n",
       "      <th>0</th>\n",
       "      <td>1</td>\n",
       "      <td>Prior</td>\n",
       "      <td>0.0</td>\n",
       "      <td>24.390244</td>\n",
       "      <td>42.682927</td>\n",
       "    </tr>\n",
       "    <tr>\n",
       "      <th>1</th>\n",
       "      <td>2</td>\n",
       "      <td>Prior</td>\n",
       "      <td>6.0606</td>\n",
       "      <td>19.354839</td>\n",
       "      <td>25.806452</td>\n",
       "    </tr>\n",
       "    <tr>\n",
       "      <th>2</th>\n",
       "      <td>3</td>\n",
       "      <td>Prior</td>\n",
       "      <td>12.1212</td>\n",
       "      <td>35.087719</td>\n",
       "      <td>146.19883</td>\n",
       "    </tr>\n",
       "    <tr>\n",
       "      <th>3</th>\n",
       "      <td>4</td>\n",
       "      <td>Prior</td>\n",
       "      <td>3.3333</td>\n",
       "      <td>18.404908</td>\n",
       "      <td>110.429448</td>\n",
       "    </tr>\n",
       "    <tr>\n",
       "      <th>4</th>\n",
       "      <td>5</td>\n",
       "      <td>Prior</td>\n",
       "      <td>12.9032</td>\n",
       "      <td>17.964072</td>\n",
       "      <td>23.952096</td>\n",
       "    </tr>\n",
       "    <tr>\n",
       "      <th>5</th>\n",
       "      <td>6</td>\n",
       "      <td>Prior</td>\n",
       "      <td>9.6774</td>\n",
       "      <td>41.176471</td>\n",
       "      <td>47.058824</td>\n",
       "    </tr>\n",
       "    <tr>\n",
       "      <th>6</th>\n",
       "      <td>7</td>\n",
       "      <td>Prior</td>\n",
       "      <td>11.7647</td>\n",
       "      <td>13.422819</td>\n",
       "      <td>0.0</td>\n",
       "    </tr>\n",
       "    <tr>\n",
       "      <th>7</th>\n",
       "      <td>8</td>\n",
       "      <td>Prior</td>\n",
       "      <td>11.4286</td>\n",
       "      <td>31.25</td>\n",
       "      <td>25.0</td>\n",
       "    </tr>\n",
       "    <tr>\n",
       "      <th>8</th>\n",
       "      <td>9</td>\n",
       "      <td>Prior</td>\n",
       "      <td>23.0769</td>\n",
       "      <td>17.241379</td>\n",
       "      <td>132.183908</td>\n",
       "    </tr>\n",
       "    <tr>\n",
       "      <th>9</th>\n",
       "      <td>10</td>\n",
       "      <td>Prior</td>\n",
       "      <td>15.0</td>\n",
       "      <td>16.574586</td>\n",
       "      <td>16.574586</td>\n",
       "    </tr>\n",
       "    <tr>\n",
       "      <th>10</th>\n",
       "      <td>11</td>\n",
       "      <td>Prior</td>\n",
       "      <td>10.0</td>\n",
       "      <td>5.91716</td>\n",
       "      <td>88.757396</td>\n",
       "    </tr>\n",
       "    <tr>\n",
       "      <th>11</th>\n",
       "      <td>12</td>\n",
       "      <td>Prior</td>\n",
       "      <td>26.087</td>\n",
       "      <td>21.164021</td>\n",
       "      <td>31.746032</td>\n",
       "    </tr>\n",
       "    <tr>\n",
       "      <th>12</th>\n",
       "      <td>13</td>\n",
       "      <td>Prior</td>\n",
       "      <td>11.1111</td>\n",
       "      <td>5.076142</td>\n",
       "      <td>10.152284</td>\n",
       "    </tr>\n",
       "    <tr>\n",
       "      <th>13</th>\n",
       "      <td>14</td>\n",
       "      <td>Post</td>\n",
       "      <td>26.6667</td>\n",
       "      <td>9.708738</td>\n",
       "      <td>29.126214</td>\n",
       "    </tr>\n",
       "    <tr>\n",
       "      <th>14</th>\n",
       "      <td>15</td>\n",
       "      <td>Post</td>\n",
       "      <td>17.9487</td>\n",
       "      <td>4.201681</td>\n",
       "      <td>21.008403</td>\n",
       "    </tr>\n",
       "    <tr>\n",
       "      <th>15</th>\n",
       "      <td>16</td>\n",
       "      <td>Post</td>\n",
       "      <td>12.8205</td>\n",
       "      <td>13.043478</td>\n",
       "      <td>34.782609</td>\n",
       "    </tr>\n",
       "    <tr>\n",
       "      <th>16</th>\n",
       "      <td>17</td>\n",
       "      <td>Post</td>\n",
       "      <td>15.7895</td>\n",
       "      <td>9.950249</td>\n",
       "      <td>19.900498</td>\n",
       "    </tr>\n",
       "    <tr>\n",
       "      <th>17</th>\n",
       "      <td>18</td>\n",
       "      <td>Post</td>\n",
       "      <td>0.0</td>\n",
       "      <td>9.950249</td>\n",
       "      <td>9.950249</td>\n",
       "    </tr>\n",
       "    <tr>\n",
       "      <th>18</th>\n",
       "      <td>19</td>\n",
       "      <td>Post</td>\n",
       "      <td>30.7692</td>\n",
       "      <td>8.510638</td>\n",
       "      <td>25.531915</td>\n",
       "    </tr>\n",
       "    <tr>\n",
       "      <th>19</th>\n",
       "      <td>20</td>\n",
       "      <td>Post</td>\n",
       "      <td>26.8293</td>\n",
       "      <td>9.259259</td>\n",
       "      <td>23.148148</td>\n",
       "    </tr>\n",
       "  </tbody>\n",
       "</table>\n",
       "</div>"
      ],
      "text/plain": [
       "    Month Reengineer  Employee_Turnover       TRFF          CI\n",
       "0       1      Prior                0.0  24.390244   42.682927\n",
       "1       2      Prior             6.0606  19.354839   25.806452\n",
       "2       3      Prior            12.1212  35.087719   146.19883\n",
       "3       4      Prior             3.3333  18.404908  110.429448\n",
       "4       5      Prior            12.9032  17.964072   23.952096\n",
       "5       6      Prior             9.6774  41.176471   47.058824\n",
       "6       7      Prior            11.7647  13.422819         0.0\n",
       "7       8      Prior            11.4286      31.25        25.0\n",
       "8       9      Prior            23.0769  17.241379  132.183908\n",
       "9      10      Prior               15.0  16.574586   16.574586\n",
       "10     11      Prior               10.0    5.91716   88.757396\n",
       "11     12      Prior             26.087  21.164021   31.746032\n",
       "12     13      Prior            11.1111   5.076142   10.152284\n",
       "13     14       Post            26.6667   9.708738   29.126214\n",
       "14     15       Post            17.9487   4.201681   21.008403\n",
       "15     16       Post            12.8205  13.043478   34.782609\n",
       "16     17       Post            15.7895   9.950249   19.900498\n",
       "17     18       Post                0.0   9.950249    9.950249\n",
       "18     19       Post            30.7692   8.510638   25.531915\n",
       "19     20       Post            26.8293   9.259259   23.148148"
      ]
     },
     "execution_count": 38,
     "metadata": {},
     "output_type": "execute_result"
    }
   ],
   "source": [
    "Treatment_Facility"
   ]
  },
  {
   "cell_type": "code",
   "execution_count": 39,
   "id": "fb9eecad",
   "metadata": {},
   "outputs": [
    {
     "name": "stdout",
     "output_type": "stream",
     "text": [
      "<class 'pandas.core.frame.DataFrame'>\n",
      "RangeIndex: 20 entries, 0 to 19\n",
      "Data columns (total 5 columns):\n",
      " #   Column             Non-Null Count  Dtype  \n",
      "---  ------             --------------  -----  \n",
      " 0   Month              20 non-null     Int64  \n",
      " 1   Reengineer         20 non-null     string \n",
      " 2   Employee_Turnover  20 non-null     Float64\n",
      " 3   TRFF               20 non-null     Float64\n",
      " 4   CI                 20 non-null     Float64\n",
      "dtypes: Float64(3), Int64(1), string(1)\n",
      "memory usage: 1008.0 bytes\n"
     ]
    }
   ],
   "source": [
    "Treatment_Facility.info()"
   ]
  },
  {
   "cell_type": "code",
   "execution_count": 40,
   "id": "967669e1",
   "metadata": {},
   "outputs": [
    {
     "data": {
      "text/plain": [
       "Month                0\n",
       "Reengineer           0\n",
       "Employee_Turnover    0\n",
       "TRFF                 0\n",
       "CI                   0\n",
       "dtype: int64"
      ]
     },
     "execution_count": 40,
     "metadata": {},
     "output_type": "execute_result"
    }
   ],
   "source": [
    "Treatment_Facility.isna().sum()"
   ]
  },
  {
   "cell_type": "markdown",
   "id": "6762377c",
   "metadata": {},
   "source": [
    "### BUSINESS PROBLEM: Determine what effect, if any, the reengineering effort had on the \n",
    "### incidence behavioral problems and staff turnover. i.e To determine if the reengineering effort\n",
    "### changed the critical incidence rate. Is there evidence that the critical incidence rate improved ?"
   ]
  },
  {
   "cell_type": "markdown",
   "id": "11d31eab",
   "metadata": {},
   "source": [
    "#### Defining the Hypothesis:"
   ]
  },
  {
   "cell_type": "raw",
   "id": "437153ac",
   "metadata": {},
   "source": [
    "H0(Null-Hypothesis): The reengineering effort had No effect on incidence behavioral problems and staff turnover.\n",
    "    \n",
    "Ha(Alternate Hypothesis): The reengineering effort had an effect on incidence behavioral problems and staff turnover.\n",
    "\n",
    "Confidence Level : 95 %\n",
    "If p_value < 0.05, to reject Null Hypothesis\n",
    "\n",
    "Type of Test: Independent sample t-test"
   ]
  },
  {
   "cell_type": "markdown",
   "id": "56dbd76f",
   "metadata": {},
   "source": [
    "#### Performing the test:"
   ]
  },
  {
   "cell_type": "code",
   "execution_count": 41,
   "id": "10e50c4d",
   "metadata": {},
   "outputs": [],
   "source": [
    "Prior_IB=Treatment_Facility.loc[Treatment_Facility.Reengineer=='Prior'].CI"
   ]
  },
  {
   "cell_type": "code",
   "execution_count": 42,
   "id": "f12c9692",
   "metadata": {},
   "outputs": [],
   "source": [
    "Post_IB=Treatment_Facility.loc[Treatment_Facility.Reengineer=='Post'].CI"
   ]
  },
  {
   "cell_type": "code",
   "execution_count": 43,
   "id": "6b1f919f",
   "metadata": {},
   "outputs": [
    {
     "data": {
      "text/plain": [
       "Ttest_indResult(statistic=1.6279144253528646, pvalue=0.12091989189884149)"
      ]
     },
     "execution_count": 43,
     "metadata": {},
     "output_type": "execute_result"
    }
   ],
   "source": [
    "stats.ttest_ind(Prior_IB,Post_IB)"
   ]
  },
  {
   "cell_type": "markdown",
   "id": "d6f76d97",
   "metadata": {},
   "source": [
    "### Conclusion:"
   ]
  },
  {
   "cell_type": "markdown",
   "id": "0cdb1ee4",
   "metadata": {},
   "source": [
    "### As p-value=0.12091989189884149, p-cvalue > 0.05, we cannot reject Null Hypothesis.\n",
    "### The reengineering effort had no effect on incidence behaviour of prior and post."
   ]
  },
  {
   "cell_type": "code",
   "execution_count": 44,
   "id": "72a3aec6",
   "metadata": {},
   "outputs": [],
   "source": [
    "Prior_ET=Treatment_Facility.loc[Treatment_Facility.Reengineer=='Prior'].Employee_Turnover"
   ]
  },
  {
   "cell_type": "code",
   "execution_count": 45,
   "id": "c85fdcad",
   "metadata": {},
   "outputs": [],
   "source": [
    "Post_ET=Treatment_Facility.loc[Treatment_Facility.Reengineer=='Post'].Employee_Turnover"
   ]
  },
  {
   "cell_type": "code",
   "execution_count": 46,
   "id": "0f7ddc5e",
   "metadata": {},
   "outputs": [
    {
     "data": {
      "text/plain": [
       "Ttest_indResult(statistic=-1.770306704753604, pvalue=0.09361109345535304)"
      ]
     },
     "execution_count": 46,
     "metadata": {},
     "output_type": "execute_result"
    }
   ],
   "source": [
    "stats.ttest_ind(Prior_ET,Post_ET)"
   ]
  },
  {
   "cell_type": "markdown",
   "id": "4e581fce",
   "metadata": {},
   "source": [
    "### Conclusion:"
   ]
  },
  {
   "cell_type": "markdown",
   "id": "e1e9d4ed",
   "metadata": {},
   "source": [
    "### As p-value=0.09361109345535304, p-cvalue > 0.05, we cannot reject Null Hypothesis.\n",
    "### The reengineering effort had no effect on Staff turnover of prior and post."
   ]
  },
  {
   "cell_type": "code",
   "execution_count": null,
   "id": "5f1031b6",
   "metadata": {},
   "outputs": [],
   "source": []
  },
  {
   "cell_type": "markdown",
   "id": "a3ef1349",
   "metadata": {},
   "source": [
    "## BUSINESS PROBLEM-4"
   ]
  },
  {
   "cell_type": "code",
   "execution_count": 47,
   "id": "e28b2ee1",
   "metadata": {},
   "outputs": [
    {
     "data": {
      "text/html": [
       "<div>\n",
       "<style scoped>\n",
       "    .dataframe tbody tr th:only-of-type {\n",
       "        vertical-align: middle;\n",
       "    }\n",
       "\n",
       "    .dataframe tbody tr th {\n",
       "        vertical-align: top;\n",
       "    }\n",
       "\n",
       "    .dataframe thead th {\n",
       "        text-align: right;\n",
       "    }\n",
       "</style>\n",
       "<table border=\"1\" class=\"dataframe\">\n",
       "  <thead>\n",
       "    <tr style=\"text-align: right;\">\n",
       "      <th></th>\n",
       "      <th>Days</th>\n",
       "      <th>Priority</th>\n",
       "    </tr>\n",
       "  </thead>\n",
       "  <tbody>\n",
       "    <tr>\n",
       "      <th>0</th>\n",
       "      <td>3.3</td>\n",
       "      <td>High</td>\n",
       "    </tr>\n",
       "    <tr>\n",
       "      <th>1</th>\n",
       "      <td>7.9</td>\n",
       "      <td>Medium</td>\n",
       "    </tr>\n",
       "    <tr>\n",
       "      <th>2</th>\n",
       "      <td>0.3</td>\n",
       "      <td>High</td>\n",
       "    </tr>\n",
       "    <tr>\n",
       "      <th>3</th>\n",
       "      <td>0.7</td>\n",
       "      <td>Medium</td>\n",
       "    </tr>\n",
       "    <tr>\n",
       "      <th>4</th>\n",
       "      <td>8.6</td>\n",
       "      <td>Medium</td>\n",
       "    </tr>\n",
       "    <tr>\n",
       "      <th>...</th>\n",
       "      <td>...</td>\n",
       "      <td>...</td>\n",
       "    </tr>\n",
       "    <tr>\n",
       "      <th>637</th>\n",
       "      <td>2.5</td>\n",
       "      <td>Low</td>\n",
       "    </tr>\n",
       "    <tr>\n",
       "      <th>638</th>\n",
       "      <td>0.3</td>\n",
       "      <td>High</td>\n",
       "    </tr>\n",
       "    <tr>\n",
       "      <th>639</th>\n",
       "      <td>0.3</td>\n",
       "      <td>Medium</td>\n",
       "    </tr>\n",
       "    <tr>\n",
       "      <th>640</th>\n",
       "      <td>1.3</td>\n",
       "      <td>Medium</td>\n",
       "    </tr>\n",
       "    <tr>\n",
       "      <th>641</th>\n",
       "      <td>0.5</td>\n",
       "      <td>High</td>\n",
       "    </tr>\n",
       "  </tbody>\n",
       "</table>\n",
       "<p>642 rows × 2 columns</p>\n",
       "</div>"
      ],
      "text/plain": [
       "     Days Priority\n",
       "0     3.3     High\n",
       "1     7.9   Medium\n",
       "2     0.3     High\n",
       "3     0.7   Medium\n",
       "4     8.6   Medium\n",
       "..    ...      ...\n",
       "637   2.5      Low\n",
       "638   0.3     High\n",
       "639   0.3   Medium\n",
       "640   1.3   Medium\n",
       "641   0.5     High\n",
       "\n",
       "[642 rows x 2 columns]"
      ]
     },
     "execution_count": 47,
     "metadata": {},
     "output_type": "execute_result"
    }
   ],
   "source": [
    "Priority_Assessment=pd.read_csv(r'Priority_Assessment.csv')\n",
    "Priority_Assessment"
   ]
  },
  {
   "cell_type": "code",
   "execution_count": 48,
   "id": "cf4eaaf3",
   "metadata": {},
   "outputs": [
    {
     "name": "stdout",
     "output_type": "stream",
     "text": [
      "<class 'pandas.core.frame.DataFrame'>\n",
      "RangeIndex: 642 entries, 0 to 641\n",
      "Data columns (total 2 columns):\n",
      " #   Column    Non-Null Count  Dtype  \n",
      "---  ------    --------------  -----  \n",
      " 0   Days      642 non-null    float64\n",
      " 1   Priority  642 non-null    object \n",
      "dtypes: float64(1), object(1)\n",
      "memory usage: 10.2+ KB\n"
     ]
    }
   ],
   "source": [
    "Priority_Assessment.info()"
   ]
  },
  {
   "cell_type": "code",
   "execution_count": 49,
   "id": "5e3e3d04",
   "metadata": {},
   "outputs": [
    {
     "data": {
      "text/plain": [
       "Days        0\n",
       "Priority    0\n",
       "dtype: int64"
      ]
     },
     "execution_count": 49,
     "metadata": {},
     "output_type": "execute_result"
    }
   ],
   "source": [
    "Priority_Assessment.isna().sum()"
   ]
  },
  {
   "cell_type": "markdown",
   "id": "49a275d3",
   "metadata": {},
   "source": [
    "### BUSINESS PROBLEM: We will focus on the prioritization system. If the system is working, then\n",
    "### high priority jobs, on average, should be completed more quickly than medium priority jobs,\n",
    "### and medium priority jobs should be completed more quickly than low priority jobs. Use the\n",
    "### data provided to determine whether thisis, in fact, occurring."
   ]
  },
  {
   "cell_type": "raw",
   "id": "cee1dabe",
   "metadata": {},
   "source": [
    "H0(Null-Hypothesis): The Prioritization system is not working.\n",
    "    \n",
    "Ha(Alternate Hypothesis): The Prioritization system is  working..\n",
    "\n",
    "Confidence Level : 95 %\n",
    "If p_value < 0.05, to reject Null Hypothesis\n",
    "\n",
    "Type of Test: f-test"
   ]
  },
  {
   "cell_type": "code",
   "execution_count": 50,
   "id": "b8d57edd",
   "metadata": {},
   "outputs": [],
   "source": [
    "High=Priority_Assessment.loc[Priority_Assessment.Priority=='High'].Days"
   ]
  },
  {
   "cell_type": "code",
   "execution_count": 51,
   "id": "c2d7ae91",
   "metadata": {},
   "outputs": [],
   "source": [
    "Medium=Priority_Assessment.loc[Priority_Assessment.Priority=='Medium'].Days"
   ]
  },
  {
   "cell_type": "code",
   "execution_count": 52,
   "id": "ab45263e",
   "metadata": {},
   "outputs": [],
   "source": [
    "Low=Priority_Assessment.loc[Priority_Assessment.Priority=='Low'].Days"
   ]
  },
  {
   "cell_type": "markdown",
   "id": "b66695de",
   "metadata": {},
   "source": [
    "#### Perform the Test:"
   ]
  },
  {
   "cell_type": "code",
   "execution_count": 53,
   "id": "4bbfae16",
   "metadata": {},
   "outputs": [
    {
     "data": {
      "text/plain": [
       "F_onewayResult(statistic=1.812311010076072, pvalue=0.16411459461716182)"
      ]
     },
     "execution_count": 53,
     "metadata": {},
     "output_type": "execute_result"
    }
   ],
   "source": [
    "stats.f_oneway(High,Medium,Low)"
   ]
  },
  {
   "cell_type": "code",
   "execution_count": 54,
   "id": "33240b39",
   "metadata": {},
   "outputs": [
    {
     "data": {
      "text/plain": [
       "3.023619631901845"
      ]
     },
     "execution_count": 54,
     "metadata": {},
     "output_type": "execute_result"
    }
   ],
   "source": [
    "High.mean()"
   ]
  },
  {
   "cell_type": "code",
   "execution_count": 55,
   "id": "0f08da26",
   "metadata": {},
   "outputs": [
    {
     "data": {
      "text/plain": [
       "2.5000000000000004"
      ]
     },
     "execution_count": 55,
     "metadata": {},
     "output_type": "execute_result"
    }
   ],
   "source": [
    "Medium.mean()"
   ]
  },
  {
   "cell_type": "code",
   "execution_count": 56,
   "id": "34ede241",
   "metadata": {},
   "outputs": [
    {
     "data": {
      "text/plain": [
       "4.228358208955225"
      ]
     },
     "execution_count": 56,
     "metadata": {},
     "output_type": "execute_result"
    }
   ],
   "source": [
    "Low.mean()"
   ]
  },
  {
   "cell_type": "markdown",
   "id": "bdb75c98",
   "metadata": {},
   "source": [
    "### Conclusion:"
   ]
  },
  {
   "cell_type": "markdown",
   "id": "66ff3002",
   "metadata": {},
   "source": [
    "### As p-value=0.16411459461716182, p-value > 0.05, So, we cannot reject Null Hypothesis.\n",
    "### The Prioritization system is not working."
   ]
  },
  {
   "cell_type": "code",
   "execution_count": null,
   "id": "58b49d02",
   "metadata": {},
   "outputs": [],
   "source": []
  },
  {
   "cell_type": "markdown",
   "id": "78061dab",
   "metadata": {},
   "source": [
    "## BUSINESS PROBLEM-5\n"
   ]
  },
  {
   "cell_type": "code",
   "execution_count": 57,
   "id": "a45456bb",
   "metadata": {},
   "outputs": [
    {
     "data": {
      "text/html": [
       "<div>\n",
       "<style scoped>\n",
       "    .dataframe tbody tr th:only-of-type {\n",
       "        vertical-align: middle;\n",
       "    }\n",
       "\n",
       "    .dataframe tbody tr th {\n",
       "        vertical-align: top;\n",
       "    }\n",
       "\n",
       "    .dataframe thead th {\n",
       "        text-align: right;\n",
       "    }\n",
       "</style>\n",
       "<table border=\"1\" class=\"dataframe\">\n",
       "  <thead>\n",
       "    <tr style=\"text-align: right;\">\n",
       "      <th></th>\n",
       "      <th>_rowstate_</th>\n",
       "      <th>Movie</th>\n",
       "      <th>Gender</th>\n",
       "      <th>Marital_Status</th>\n",
       "      <th>Sinage</th>\n",
       "      <th>Parking</th>\n",
       "      <th>Clean</th>\n",
       "      <th>Overall</th>\n",
       "      <th>Age</th>\n",
       "      <th>Income</th>\n",
       "      <th>Hear_About</th>\n",
       "    </tr>\n",
       "  </thead>\n",
       "  <tbody>\n",
       "    <tr>\n",
       "      <th>0</th>\n",
       "      <td>0</td>\n",
       "      <td>Ferris Buellers Day Off</td>\n",
       "      <td>Female</td>\n",
       "      <td>Married</td>\n",
       "      <td>2.0</td>\n",
       "      <td>2.0</td>\n",
       "      <td>2.0</td>\n",
       "      <td>2.0</td>\n",
       "      <td>3.0</td>\n",
       "      <td>1.0</td>\n",
       "      <td>5</td>\n",
       "    </tr>\n",
       "    <tr>\n",
       "      <th>1</th>\n",
       "      <td>0</td>\n",
       "      <td>Ferris Buellers Day Off</td>\n",
       "      <td>Female</td>\n",
       "      <td>Single</td>\n",
       "      <td>1.0</td>\n",
       "      <td>1.0</td>\n",
       "      <td>1.0</td>\n",
       "      <td>1.0</td>\n",
       "      <td>2.0</td>\n",
       "      <td>1.0</td>\n",
       "      <td>5</td>\n",
       "    </tr>\n",
       "    <tr>\n",
       "      <th>2</th>\n",
       "      <td>0</td>\n",
       "      <td>Ferris Buellers Day Off</td>\n",
       "      <td>Male</td>\n",
       "      <td>Married</td>\n",
       "      <td>2.0</td>\n",
       "      <td>4.0</td>\n",
       "      <td>3.0</td>\n",
       "      <td>2.0</td>\n",
       "      <td>4.0</td>\n",
       "      <td>1.0</td>\n",
       "      <td>5</td>\n",
       "    </tr>\n",
       "    <tr>\n",
       "      <th>3</th>\n",
       "      <td>0</td>\n",
       "      <td>Ferris Buellers Day Off</td>\n",
       "      <td>Female</td>\n",
       "      <td>Married</td>\n",
       "      <td>1.0</td>\n",
       "      <td>3.0</td>\n",
       "      <td>2.0</td>\n",
       "      <td>2.0</td>\n",
       "      <td>4.0</td>\n",
       "      <td>1.0</td>\n",
       "      <td>5</td>\n",
       "    </tr>\n",
       "    <tr>\n",
       "      <th>4</th>\n",
       "      <td>0</td>\n",
       "      <td>Ferris Buellers Day Off</td>\n",
       "      <td>Female</td>\n",
       "      <td>Married</td>\n",
       "      <td>1.0</td>\n",
       "      <td>1.0</td>\n",
       "      <td>1.0</td>\n",
       "      <td>1.0</td>\n",
       "      <td>3.0</td>\n",
       "      <td>3.0</td>\n",
       "      <td>1</td>\n",
       "    </tr>\n",
       "    <tr>\n",
       "      <th>...</th>\n",
       "      <td>...</td>\n",
       "      <td>...</td>\n",
       "      <td>...</td>\n",
       "      <td>...</td>\n",
       "      <td>...</td>\n",
       "      <td>...</td>\n",
       "      <td>...</td>\n",
       "      <td>...</td>\n",
       "      <td>...</td>\n",
       "      <td>...</td>\n",
       "      <td>...</td>\n",
       "    </tr>\n",
       "    <tr>\n",
       "      <th>325</th>\n",
       "      <td>0</td>\n",
       "      <td>Old School</td>\n",
       "      <td>2</td>\n",
       "      <td>2</td>\n",
       "      <td>1.0</td>\n",
       "      <td>2.0</td>\n",
       "      <td>1.0</td>\n",
       "      <td>1.0</td>\n",
       "      <td>2.0</td>\n",
       "      <td>1.0</td>\n",
       "      <td>1</td>\n",
       "    </tr>\n",
       "    <tr>\n",
       "      <th>326</th>\n",
       "      <td>0</td>\n",
       "      <td>Old School</td>\n",
       "      <td>1</td>\n",
       "      <td>1</td>\n",
       "      <td>2.0</td>\n",
       "      <td>2.0</td>\n",
       "      <td>2.0</td>\n",
       "      <td>2.0</td>\n",
       "      <td>3.0</td>\n",
       "      <td>3.0</td>\n",
       "      <td>5</td>\n",
       "    </tr>\n",
       "    <tr>\n",
       "      <th>327</th>\n",
       "      <td>0</td>\n",
       "      <td>Old School</td>\n",
       "      <td>2</td>\n",
       "      <td>1</td>\n",
       "      <td>2.0</td>\n",
       "      <td>1.0</td>\n",
       "      <td>1.0</td>\n",
       "      <td>2.0</td>\n",
       "      <td>2.0</td>\n",
       "      <td>2.0</td>\n",
       "      <td>5</td>\n",
       "    </tr>\n",
       "    <tr>\n",
       "      <th>328</th>\n",
       "      <td>0</td>\n",
       "      <td>Old School</td>\n",
       "      <td>1</td>\n",
       "      <td>1</td>\n",
       "      <td>1.0</td>\n",
       "      <td>1.0</td>\n",
       "      <td>1.0</td>\n",
       "      <td>1.0</td>\n",
       "      <td>2.0</td>\n",
       "      <td>1.0</td>\n",
       "      <td>3</td>\n",
       "    </tr>\n",
       "    <tr>\n",
       "      <th>329</th>\n",
       "      <td>0</td>\n",
       "      <td>Old School</td>\n",
       "      <td>2</td>\n",
       "      <td>2</td>\n",
       "      <td>2.0</td>\n",
       "      <td>2.0</td>\n",
       "      <td>3.0</td>\n",
       "      <td>1.0</td>\n",
       "      <td>2.0</td>\n",
       "      <td>1.0</td>\n",
       "      <td>5</td>\n",
       "    </tr>\n",
       "  </tbody>\n",
       "</table>\n",
       "<p>330 rows × 11 columns</p>\n",
       "</div>"
      ],
      "text/plain": [
       "     _rowstate_                    Movie  Gender Marital_Status  Sinage  \\\n",
       "0             0  Ferris Buellers Day Off  Female        Married     2.0   \n",
       "1             0  Ferris Buellers Day Off  Female         Single     1.0   \n",
       "2             0  Ferris Buellers Day Off    Male        Married     2.0   \n",
       "3             0  Ferris Buellers Day Off  Female        Married     1.0   \n",
       "4             0  Ferris Buellers Day Off  Female        Married     1.0   \n",
       "..          ...                      ...     ...            ...     ...   \n",
       "325           0               Old School       2              2     1.0   \n",
       "326           0               Old School       1              1     2.0   \n",
       "327           0               Old School       2              1     2.0   \n",
       "328           0               Old School       1              1     1.0   \n",
       "329           0               Old School       2              2     2.0   \n",
       "\n",
       "     Parking  Clean  Overall  Age  Income Hear_About  \n",
       "0        2.0    2.0      2.0  3.0     1.0          5  \n",
       "1        1.0    1.0      1.0  2.0     1.0          5  \n",
       "2        4.0    3.0      2.0  4.0     1.0          5  \n",
       "3        3.0    2.0      2.0  4.0     1.0          5  \n",
       "4        1.0    1.0      1.0  3.0     3.0          1  \n",
       "..       ...    ...      ...  ...     ...        ...  \n",
       "325      2.0    1.0      1.0  2.0     1.0          1  \n",
       "326      2.0    2.0      2.0  3.0     3.0          5  \n",
       "327      1.0    1.0      2.0  2.0     2.0          5  \n",
       "328      1.0    1.0      1.0  2.0     1.0          3  \n",
       "329      2.0    3.0      1.0  2.0     1.0          5  \n",
       "\n",
       "[330 rows x 11 columns]"
      ]
     },
     "execution_count": 57,
     "metadata": {},
     "output_type": "execute_result"
    }
   ],
   "source": [
    "Films=pd.read_csv(r'Films.csv')\n",
    "Films"
   ]
  },
  {
   "cell_type": "code",
   "execution_count": 58,
   "id": "c4c1fa02",
   "metadata": {},
   "outputs": [
    {
     "name": "stdout",
     "output_type": "stream",
     "text": [
      "<class 'pandas.core.frame.DataFrame'>\n",
      "RangeIndex: 330 entries, 0 to 329\n",
      "Data columns (total 11 columns):\n",
      " #   Column          Non-Null Count  Dtype  \n",
      "---  ------          --------------  -----  \n",
      " 0   _rowstate_      330 non-null    int64  \n",
      " 1   Movie           330 non-null    object \n",
      " 2   Gender          330 non-null    object \n",
      " 3   Marital_Status  328 non-null    object \n",
      " 4   Sinage          328 non-null    float64\n",
      " 5   Parking         328 non-null    float64\n",
      " 6   Clean           327 non-null    float64\n",
      " 7   Overall         328 non-null    float64\n",
      " 8   Age             328 non-null    float64\n",
      " 9   Income          314 non-null    float64\n",
      " 10  Hear_About      323 non-null    object \n",
      "dtypes: float64(6), int64(1), object(4)\n",
      "memory usage: 28.5+ KB\n"
     ]
    }
   ],
   "source": [
    "Films.info()"
   ]
  },
  {
   "cell_type": "code",
   "execution_count": 59,
   "id": "dc230524",
   "metadata": {},
   "outputs": [
    {
     "data": {
      "text/plain": [
       "_rowstate_         0\n",
       "Movie              0\n",
       "Gender             0\n",
       "Marital_Status     2\n",
       "Sinage             2\n",
       "Parking            2\n",
       "Clean              3\n",
       "Overall            2\n",
       "Age                2\n",
       "Income            16\n",
       "Hear_About         7\n",
       "dtype: int64"
      ]
     },
     "execution_count": 59,
     "metadata": {},
     "output_type": "execute_result"
    }
   ],
   "source": [
    "Films.isna().sum()"
   ]
  },
  {
   "cell_type": "code",
   "execution_count": 60,
   "id": "93041588",
   "metadata": {},
   "outputs": [
    {
     "data": {
      "text/plain": [
       "2         194\n",
       "1         104\n",
       "Female     19\n",
       "Male       13\n",
       "Name: Gender, dtype: int64"
      ]
     },
     "execution_count": 60,
     "metadata": {},
     "output_type": "execute_result"
    }
   ],
   "source": [
    "Films.Gender.value_counts()"
   ]
  },
  {
   "cell_type": "code",
   "execution_count": 61,
   "id": "24e5676c",
   "metadata": {},
   "outputs": [],
   "source": [
    "Films.Gender=np.where((Films.Gender=='Male')|(Films.Gender=='1'),'Male','Female')"
   ]
  },
  {
   "cell_type": "code",
   "execution_count": 62,
   "id": "da3416e4",
   "metadata": {},
   "outputs": [
    {
     "data": {
      "text/plain": [
       "2          208\n",
       "1           88\n",
       "Single      18\n",
       "Married     12\n",
       "Slngle       2\n",
       "Name: Marital_Status, dtype: int64"
      ]
     },
     "execution_count": 62,
     "metadata": {},
     "output_type": "execute_result"
    }
   ],
   "source": [
    "Films.Marital_Status.value_counts()"
   ]
  },
  {
   "cell_type": "code",
   "execution_count": 63,
   "id": "b53aeead",
   "metadata": {},
   "outputs": [],
   "source": [
    "Films.Marital_Status=np.where((Films.Marital_Status=='Married')|(Films.Marital_Status=='1'),'Married','Single')"
   ]
  },
  {
   "cell_type": "markdown",
   "id": "08f077aa",
   "metadata": {},
   "source": [
    "### Filling Na values"
   ]
  },
  {
   "cell_type": "code",
   "execution_count": 64,
   "id": "5619c830",
   "metadata": {},
   "outputs": [],
   "source": [
    "\n",
    "\n",
    "Films['Marital_Status'] =Films['Marital_Status'].fillna(Films['Marital_Status'].mode()[0])\n",
    "Films['Sinage'] = Films['Sinage'].fillna(Films['Sinage'].mode()[0])\n",
    "Films['Parking'] = Films['Parking'].fillna(Films['Parking'].mode()[0])\n",
    "Films['Clean'] = Films['Clean'].fillna(Films['Clean'].mode()[0])\n",
    "Films['Overall'] = Films['Overall'].fillna(Films['Overall'].mode()[0])\n",
    "Films['Age'] = Films['Age'].fillna(Films['Age'].mode()[0])\n",
    "Films['Income'] = Films['Income'].fillna(Films['Income'].mode()[0])\n",
    "Films['Hear_About'] = Films['Hear_About'].fillna(Films['Hear_About'].mode()[0])\n",
    "\n"
   ]
  },
  {
   "cell_type": "code",
   "execution_count": 65,
   "id": "47b0c510",
   "metadata": {},
   "outputs": [
    {
     "data": {
      "text/plain": [
       "_rowstate_        0\n",
       "Movie             0\n",
       "Gender            0\n",
       "Marital_Status    0\n",
       "Sinage            0\n",
       "Parking           0\n",
       "Clean             0\n",
       "Overall           0\n",
       "Age               0\n",
       "Income            0\n",
       "Hear_About        0\n",
       "dtype: int64"
      ]
     },
     "execution_count": 65,
     "metadata": {},
     "output_type": "execute_result"
    }
   ],
   "source": [
    "Films.isna().sum()"
   ]
  },
  {
   "cell_type": "code",
   "execution_count": 66,
   "id": "94e2b5ea",
   "metadata": {},
   "outputs": [
    {
     "data": {
      "text/html": [
       "<div>\n",
       "<style scoped>\n",
       "    .dataframe tbody tr th:only-of-type {\n",
       "        vertical-align: middle;\n",
       "    }\n",
       "\n",
       "    .dataframe tbody tr th {\n",
       "        vertical-align: top;\n",
       "    }\n",
       "\n",
       "    .dataframe thead th {\n",
       "        text-align: right;\n",
       "    }\n",
       "</style>\n",
       "<table border=\"1\" class=\"dataframe\">\n",
       "  <thead>\n",
       "    <tr style=\"text-align: right;\">\n",
       "      <th></th>\n",
       "      <th>_rowstate_</th>\n",
       "      <th>Movie</th>\n",
       "      <th>Gender</th>\n",
       "      <th>Marital_Status</th>\n",
       "      <th>Sinage</th>\n",
       "      <th>Parking</th>\n",
       "      <th>Clean</th>\n",
       "      <th>Overall</th>\n",
       "      <th>Age</th>\n",
       "      <th>Income</th>\n",
       "      <th>Hear_About</th>\n",
       "    </tr>\n",
       "  </thead>\n",
       "  <tbody>\n",
       "    <tr>\n",
       "      <th>0</th>\n",
       "      <td>0</td>\n",
       "      <td>Ferris Buellers Day Off</td>\n",
       "      <td>Female</td>\n",
       "      <td>Married</td>\n",
       "      <td>2.0</td>\n",
       "      <td>2.0</td>\n",
       "      <td>2.0</td>\n",
       "      <td>2.0</td>\n",
       "      <td>3.0</td>\n",
       "      <td>1.0</td>\n",
       "      <td>5</td>\n",
       "    </tr>\n",
       "    <tr>\n",
       "      <th>1</th>\n",
       "      <td>0</td>\n",
       "      <td>Ferris Buellers Day Off</td>\n",
       "      <td>Female</td>\n",
       "      <td>Single</td>\n",
       "      <td>1.0</td>\n",
       "      <td>1.0</td>\n",
       "      <td>1.0</td>\n",
       "      <td>1.0</td>\n",
       "      <td>2.0</td>\n",
       "      <td>1.0</td>\n",
       "      <td>5</td>\n",
       "    </tr>\n",
       "    <tr>\n",
       "      <th>2</th>\n",
       "      <td>0</td>\n",
       "      <td>Ferris Buellers Day Off</td>\n",
       "      <td>Male</td>\n",
       "      <td>Married</td>\n",
       "      <td>2.0</td>\n",
       "      <td>4.0</td>\n",
       "      <td>3.0</td>\n",
       "      <td>2.0</td>\n",
       "      <td>4.0</td>\n",
       "      <td>1.0</td>\n",
       "      <td>5</td>\n",
       "    </tr>\n",
       "    <tr>\n",
       "      <th>3</th>\n",
       "      <td>0</td>\n",
       "      <td>Ferris Buellers Day Off</td>\n",
       "      <td>Female</td>\n",
       "      <td>Married</td>\n",
       "      <td>1.0</td>\n",
       "      <td>3.0</td>\n",
       "      <td>2.0</td>\n",
       "      <td>2.0</td>\n",
       "      <td>4.0</td>\n",
       "      <td>1.0</td>\n",
       "      <td>5</td>\n",
       "    </tr>\n",
       "    <tr>\n",
       "      <th>4</th>\n",
       "      <td>0</td>\n",
       "      <td>Ferris Buellers Day Off</td>\n",
       "      <td>Female</td>\n",
       "      <td>Married</td>\n",
       "      <td>1.0</td>\n",
       "      <td>1.0</td>\n",
       "      <td>1.0</td>\n",
       "      <td>1.0</td>\n",
       "      <td>3.0</td>\n",
       "      <td>3.0</td>\n",
       "      <td>1</td>\n",
       "    </tr>\n",
       "    <tr>\n",
       "      <th>...</th>\n",
       "      <td>...</td>\n",
       "      <td>...</td>\n",
       "      <td>...</td>\n",
       "      <td>...</td>\n",
       "      <td>...</td>\n",
       "      <td>...</td>\n",
       "      <td>...</td>\n",
       "      <td>...</td>\n",
       "      <td>...</td>\n",
       "      <td>...</td>\n",
       "      <td>...</td>\n",
       "    </tr>\n",
       "    <tr>\n",
       "      <th>325</th>\n",
       "      <td>0</td>\n",
       "      <td>Old School</td>\n",
       "      <td>Female</td>\n",
       "      <td>Single</td>\n",
       "      <td>1.0</td>\n",
       "      <td>2.0</td>\n",
       "      <td>1.0</td>\n",
       "      <td>1.0</td>\n",
       "      <td>2.0</td>\n",
       "      <td>1.0</td>\n",
       "      <td>1</td>\n",
       "    </tr>\n",
       "    <tr>\n",
       "      <th>326</th>\n",
       "      <td>0</td>\n",
       "      <td>Old School</td>\n",
       "      <td>Male</td>\n",
       "      <td>Married</td>\n",
       "      <td>2.0</td>\n",
       "      <td>2.0</td>\n",
       "      <td>2.0</td>\n",
       "      <td>2.0</td>\n",
       "      <td>3.0</td>\n",
       "      <td>3.0</td>\n",
       "      <td>5</td>\n",
       "    </tr>\n",
       "    <tr>\n",
       "      <th>327</th>\n",
       "      <td>0</td>\n",
       "      <td>Old School</td>\n",
       "      <td>Female</td>\n",
       "      <td>Married</td>\n",
       "      <td>2.0</td>\n",
       "      <td>1.0</td>\n",
       "      <td>1.0</td>\n",
       "      <td>2.0</td>\n",
       "      <td>2.0</td>\n",
       "      <td>2.0</td>\n",
       "      <td>5</td>\n",
       "    </tr>\n",
       "    <tr>\n",
       "      <th>328</th>\n",
       "      <td>0</td>\n",
       "      <td>Old School</td>\n",
       "      <td>Male</td>\n",
       "      <td>Married</td>\n",
       "      <td>1.0</td>\n",
       "      <td>1.0</td>\n",
       "      <td>1.0</td>\n",
       "      <td>1.0</td>\n",
       "      <td>2.0</td>\n",
       "      <td>1.0</td>\n",
       "      <td>3</td>\n",
       "    </tr>\n",
       "    <tr>\n",
       "      <th>329</th>\n",
       "      <td>0</td>\n",
       "      <td>Old School</td>\n",
       "      <td>Female</td>\n",
       "      <td>Single</td>\n",
       "      <td>2.0</td>\n",
       "      <td>2.0</td>\n",
       "      <td>3.0</td>\n",
       "      <td>1.0</td>\n",
       "      <td>2.0</td>\n",
       "      <td>1.0</td>\n",
       "      <td>5</td>\n",
       "    </tr>\n",
       "  </tbody>\n",
       "</table>\n",
       "<p>330 rows × 11 columns</p>\n",
       "</div>"
      ],
      "text/plain": [
       "     _rowstate_                    Movie  Gender Marital_Status  Sinage  \\\n",
       "0             0  Ferris Buellers Day Off  Female        Married     2.0   \n",
       "1             0  Ferris Buellers Day Off  Female         Single     1.0   \n",
       "2             0  Ferris Buellers Day Off    Male        Married     2.0   \n",
       "3             0  Ferris Buellers Day Off  Female        Married     1.0   \n",
       "4             0  Ferris Buellers Day Off  Female        Married     1.0   \n",
       "..          ...                      ...     ...            ...     ...   \n",
       "325           0               Old School  Female         Single     1.0   \n",
       "326           0               Old School    Male        Married     2.0   \n",
       "327           0               Old School  Female        Married     2.0   \n",
       "328           0               Old School    Male        Married     1.0   \n",
       "329           0               Old School  Female         Single     2.0   \n",
       "\n",
       "     Parking  Clean  Overall  Age  Income Hear_About  \n",
       "0        2.0    2.0      2.0  3.0     1.0          5  \n",
       "1        1.0    1.0      1.0  2.0     1.0          5  \n",
       "2        4.0    3.0      2.0  4.0     1.0          5  \n",
       "3        3.0    2.0      2.0  4.0     1.0          5  \n",
       "4        1.0    1.0      1.0  3.0     3.0          1  \n",
       "..       ...    ...      ...  ...     ...        ...  \n",
       "325      2.0    1.0      1.0  2.0     1.0          1  \n",
       "326      2.0    2.0      2.0  3.0     3.0          5  \n",
       "327      1.0    1.0      2.0  2.0     2.0          5  \n",
       "328      1.0    1.0      1.0  2.0     1.0          3  \n",
       "329      2.0    3.0      1.0  2.0     1.0          5  \n",
       "\n",
       "[330 rows x 11 columns]"
      ]
     },
     "execution_count": 66,
     "metadata": {},
     "output_type": "execute_result"
    }
   ],
   "source": [
    "Films"
   ]
  },
  {
   "cell_type": "markdown",
   "id": "464c48b3",
   "metadata": {},
   "source": [
    "### BUSINESS PROBLEM: Use the survey resultsto address the following questions\n",
    "###  What is the overall level of customer satisfaction?\n",
    "###  What factors are linked to satisfaction?\n",
    "###  What is the demographic profile of Film on the Rocks patrons?\n",
    "###  In what media outlet(s) should the film series be advertised?"
   ]
  },
  {
   "cell_type": "markdown",
   "id": "0c92b232",
   "metadata": {},
   "source": [
    "### (a) What is the overall level of customer satisfaction?"
   ]
  },
  {
   "cell_type": "markdown",
   "id": "6e43b061",
   "metadata": {},
   "source": [
    "#### Defining the Hypothesis:"
   ]
  },
  {
   "cell_type": "code",
   "execution_count": null,
   "id": "c37a843d",
   "metadata": {},
   "outputs": [],
   "source": [
    "H0(Null-Hypothesis): The Overall customer is satisfied.\n",
    "    \n",
    "Ha(Alternate Hypothesis): The overall Customer is not satisfied.\n",
    "Confidence Level : 95 %\n"
   ]
  },
  {
   "cell_type": "code",
   "execution_count": 72,
   "id": "d13fc5d3",
   "metadata": {},
   "outputs": [
    {
     "data": {
      "text/plain": [
       "1.621212121212121"
      ]
     },
     "execution_count": 72,
     "metadata": {},
     "output_type": "execute_result"
    }
   ],
   "source": [
    "Mean_O=Films.Overall.mean()\n",
    "Mean_O"
   ]
  },
  {
   "cell_type": "code",
   "execution_count": 73,
   "id": "ab0a1409",
   "metadata": {},
   "outputs": [
    {
     "data": {
      "text/plain": [
       "0.6878262202585181"
      ]
     },
     "execution_count": 73,
     "metadata": {},
     "output_type": "execute_result"
    }
   ],
   "source": [
    "Std_O=Films.Overall.std()\n",
    "Std_O"
   ]
  },
  {
   "cell_type": "code",
   "execution_count": 78,
   "id": "ae025b8c",
   "metadata": {},
   "outputs": [
    {
     "data": {
      "text/plain": [
       "330"
      ]
     },
     "execution_count": 78,
     "metadata": {},
     "output_type": "execute_result"
    }
   ],
   "source": [
    "Films.shape[0]"
   ]
  },
  {
   "cell_type": "code",
   "execution_count": 75,
   "id": "c414e661",
   "metadata": {},
   "outputs": [
    {
     "data": {
      "text/plain": [
       "0.037863587260422576"
      ]
     },
     "execution_count": 75,
     "metadata": {},
     "output_type": "execute_result"
    }
   ],
   "source": [
    "SE=Std_O/np.sqrt(330)\n",
    "SE"
   ]
  },
  {
   "cell_type": "code",
   "execution_count": 79,
   "id": "2bf80bd7",
   "metadata": {},
   "outputs": [
    {
     "data": {
      "text/plain": [
       "(1.5469994901816928, 1.6954247522425494)"
      ]
     },
     "execution_count": 79,
     "metadata": {},
     "output_type": "execute_result"
    }
   ],
   "source": [
    "CI=(Mean_O-(1.96*SE),Mean_O+(1.96*SE))\n",
    "CI"
   ]
  },
  {
   "cell_type": "markdown",
   "id": "c647bf36",
   "metadata": {},
   "source": [
    "### Conclusion:"
   ]
  },
  {
   "cell_type": "markdown",
   "id": "dc5e0e8d",
   "metadata": {},
   "source": [
    "### As the Mean_O is in the range of CI, so we cannot reject Null Hypothesis with 95% CL.\n",
    "### Hence, With 95% Confidence Level, we cannot say that the customers were overall satisfied."
   ]
  },
  {
   "cell_type": "code",
   "execution_count": null,
   "id": "37859207",
   "metadata": {},
   "outputs": [],
   "source": []
  },
  {
   "cell_type": "markdown",
   "id": "4b69af53",
   "metadata": {},
   "source": [
    "### (b) What factors are linked to satisfaction?"
   ]
  },
  {
   "cell_type": "markdown",
   "id": "f59e3622",
   "metadata": {},
   "source": [
    "#### Defining the Hypothesis:"
   ]
  },
  {
   "cell_type": "raw",
   "id": "c807ad50",
   "metadata": {},
   "source": [
    "H0(Null-Hypothesis): Factors like sinage, cleaning and parking are independent of Overall satisfaction.\n",
    "    \n",
    "Ha(Alternate Hypothesis): Factors like sinage, cleaning and parking are related to Overall satisfaction.\n",
    "\n",
    "Confidence Level : 95 %\n",
    "If p_value < 0.05, to reject Null Hypothesis\n",
    "\n",
    "Type of Test: f-test"
   ]
  },
  {
   "cell_type": "code",
   "execution_count": 93,
   "id": "c1c1ebc9",
   "metadata": {},
   "outputs": [],
   "source": [
    "T1=pd.crosstab(Films.Sinage,Films.Overall)"
   ]
  },
  {
   "cell_type": "code",
   "execution_count": 95,
   "id": "b2fe9932",
   "metadata": {},
   "outputs": [],
   "source": [
    "T2=pd.crosstab(Films.Clean,Films.Overall)"
   ]
  },
  {
   "cell_type": "code",
   "execution_count": 94,
   "id": "35d35ee7",
   "metadata": {},
   "outputs": [],
   "source": [
    "T3=pd.crosstab(Films.Parking,Films.Overall)"
   ]
  },
  {
   "cell_type": "markdown",
   "id": "afe1080e",
   "metadata": {},
   "source": [
    "#### Performing the Test:"
   ]
  },
  {
   "cell_type": "code",
   "execution_count": 100,
   "id": "bf36bc56",
   "metadata": {},
   "outputs": [
    {
     "data": {
      "text/plain": [
       "(125.61859671027881,\n",
       " 4.53298970003405e-19,\n",
       " 16,\n",
       " array([[5.17060606e+01, 5.54727273e+01, 4.10909091e+00, 3.42424242e-01,\n",
       "         1.36969697e+00],\n",
       "        [7.22969697e+01, 7.75636364e+01, 5.74545455e+00, 4.78787879e-01,\n",
       "         1.91515152e+00],\n",
       "        [2.19636364e+01, 2.35636364e+01, 1.74545455e+00, 1.45454545e-01,\n",
       "         5.81818182e-01],\n",
       "        [2.74545455e+00, 2.94545455e+00, 2.18181818e-01, 1.81818182e-02,\n",
       "         7.27272727e-02],\n",
       "        [2.28787879e+00, 2.45454545e+00, 1.81818182e-01, 1.51515152e-02,\n",
       "         6.06060606e-02]]))"
      ]
     },
     "execution_count": 100,
     "metadata": {},
     "output_type": "execute_result"
    }
   ],
   "source": [
    "Chi1=stats.chi2_contingency(T1)\n",
    "Chi1"
   ]
  },
  {
   "cell_type": "code",
   "execution_count": 103,
   "id": "ea2495a0",
   "metadata": {},
   "outputs": [
    {
     "data": {
      "text/plain": [
       "4.53298970003405e-19"
      ]
     },
     "execution_count": 103,
     "metadata": {},
     "output_type": "execute_result"
    }
   ],
   "source": [
    "p_value1=Chi1[1]\n",
    "p_value1"
   ]
  },
  {
   "cell_type": "code",
   "execution_count": 104,
   "id": "59cd7ace",
   "metadata": {},
   "outputs": [
    {
     "data": {
      "text/plain": [
       "(127.71945555999517,\n",
       " 1.7772535915434025e-19,\n",
       " 16,\n",
       " array([[6.58909091e+01, 7.06909091e+01, 5.23636364e+00, 4.36363636e-01,\n",
       "         1.74545455e+00],\n",
       "        [7.09242424e+01, 7.60909091e+01, 5.63636364e+00, 4.69696970e-01,\n",
       "         1.87878788e+00],\n",
       "        [1.09818182e+01, 1.17818182e+01, 8.72727273e-01, 7.27272727e-02,\n",
       "         2.90909091e-01],\n",
       "        [2.28787879e+00, 2.45454545e+00, 1.81818182e-01, 1.51515152e-02,\n",
       "         6.06060606e-02],\n",
       "        [9.15151515e-01, 9.81818182e-01, 7.27272727e-02, 6.06060606e-03,\n",
       "         2.42424242e-02]]))"
      ]
     },
     "execution_count": 104,
     "metadata": {},
     "output_type": "execute_result"
    }
   ],
   "source": [
    "Chi2=stats.chi2_contingency(T2)\n",
    "Chi2"
   ]
  },
  {
   "cell_type": "code",
   "execution_count": 106,
   "id": "0a0d24af",
   "metadata": {},
   "outputs": [
    {
     "data": {
      "text/plain": [
       "1.7772535915434025e-19"
      ]
     },
     "execution_count": 106,
     "metadata": {},
     "output_type": "execute_result"
    }
   ],
   "source": [
    "p_value2=Chi2[1]\n",
    "p_value2"
   ]
  },
  {
   "cell_type": "code",
   "execution_count": 109,
   "id": "4b4074cb",
   "metadata": {},
   "outputs": [
    {
     "data": {
      "text/plain": [
       "(230.61691663391676,\n",
       " 4.783162283608494e-40,\n",
       " 16,\n",
       " array([[6.17727273e+01, 6.62727273e+01, 4.90909091e+00, 4.09090909e-01,\n",
       "         1.63636364e+00],\n",
       "        [7.09242424e+01, 7.60909091e+01, 5.63636364e+00, 4.69696970e-01,\n",
       "         1.87878788e+00],\n",
       "        [1.32696970e+01, 1.42363636e+01, 1.05454545e+00, 8.78787879e-02,\n",
       "         3.51515152e-01],\n",
       "        [3.20303030e+00, 3.43636364e+00, 2.54545455e-01, 2.12121212e-02,\n",
       "         8.48484848e-02],\n",
       "        [1.83030303e+00, 1.96363636e+00, 1.45454545e-01, 1.21212121e-02,\n",
       "         4.84848485e-02]]))"
      ]
     },
     "execution_count": 109,
     "metadata": {},
     "output_type": "execute_result"
    }
   ],
   "source": [
    "Chi3=stats.chi2_contingency(T3)\n",
    "Chi3"
   ]
  },
  {
   "cell_type": "code",
   "execution_count": 112,
   "id": "db618435",
   "metadata": {},
   "outputs": [
    {
     "data": {
      "text/plain": [
       "4.783162283608494e-40"
      ]
     },
     "execution_count": 112,
     "metadata": {},
     "output_type": "execute_result"
    }
   ],
   "source": [
    "p_value3=Chi3[1]\n",
    "p_value3"
   ]
  },
  {
   "cell_type": "markdown",
   "id": "51414f68",
   "metadata": {},
   "source": [
    "### Conclusion:"
   ]
  },
  {
   "cell_type": "markdown",
   "id": "dc6fa3fb",
   "metadata": {},
   "source": [
    "### As, p-value=4.53298970003405e-19,1.7772535915434025e-19,4.783162283608494e-40, p-value < 0.05, hence we can reject Null Hypothesis.\n",
    "### Hence, the factors Parking, Sinage and Cleaning are linked to overall  Customer satisfaction."
   ]
  },
  {
   "cell_type": "code",
   "execution_count": null,
   "id": "02a2b113",
   "metadata": {},
   "outputs": [],
   "source": []
  },
  {
   "cell_type": "markdown",
   "id": "78ee3cf6",
   "metadata": {},
   "source": [
    "### (c) What is the demographic profile of Film on the Rocks patrons?"
   ]
  },
  {
   "cell_type": "code",
   "execution_count": 116,
   "id": "35b31b6d",
   "metadata": {},
   "outputs": [
    {
     "data": {
      "text/plain": [
       "Female    213\n",
       "Male      117\n",
       "Name: Gender, dtype: int64"
      ]
     },
     "execution_count": 116,
     "metadata": {},
     "output_type": "execute_result"
    }
   ],
   "source": [
    "Gen=Films.Gender.value_counts()\n",
    "Gen"
   ]
  },
  {
   "cell_type": "code",
   "execution_count": 127,
   "id": "b2b56b0e",
   "metadata": {},
   "outputs": [
    {
     "data": {
      "image/png": "[encoded data removed]",
      "text/plain": [
       "<Figure size 1080x504 with 1 Axes>"
      ]
     },
     "metadata": {},
     "output_type": "display_data"
    }
   ],
   "source": [
    "Gen.plot(kind='pie',autopct='%1.2f%%',figsize=(15,7),fontsize=15)\n",
    "plt.title('Demography based on Gender',fontsize=14)\n",
    "plt.show()"
   ]
  },
  {
   "cell_type": "code",
   "execution_count": 130,
   "id": "d1ee8f07",
   "metadata": {},
   "outputs": [
    {
     "data": {
      "text/plain": [
       "Single     230\n",
       "Married    100\n",
       "Name: Marital_Status, dtype: int64"
      ]
     },
     "execution_count": 130,
     "metadata": {},
     "output_type": "execute_result"
    }
   ],
   "source": [
    "M_S=Films.Marital_Status.value_counts()\n",
    "M_S"
   ]
  },
  {
   "cell_type": "code",
   "execution_count": 131,
   "id": "98c3946d",
   "metadata": {},
   "outputs": [
    {
     "data": {
      "image/png": "[encoded data removed]",
      "text/plain": [
       "<Figure size 1080x504 with 1 Axes>"
      ]
     },
     "metadata": {},
     "output_type": "display_data"
    }
   ],
   "source": [
    "M_S.plot(kind='pie',autopct='%1.2f%%',figsize=(15,7),fontsize=15)\n",
    "plt.title('Demography based on Marital Status',fontsize=14)\n",
    "plt.show()"
   ]
  },
  {
   "cell_type": "code",
   "execution_count": 134,
   "id": "27b77b48",
   "metadata": {},
   "outputs": [
    {
     "data": {
      "text/plain": [
       "2.0    177\n",
       "3.0    117\n",
       "1.0     26\n",
       "4.0     10\n",
       "Name: Age, dtype: int64"
      ]
     },
     "execution_count": 134,
     "metadata": {},
     "output_type": "execute_result"
    }
   ],
   "source": [
    "Age_Group=Films.Age.value_counts()\n",
    "Age_Group"
   ]
  },
  {
   "cell_type": "code",
   "execution_count": 138,
   "id": "b2741c2c",
   "metadata": {},
   "outputs": [
    {
     "data": {
      "image/png": "[encoded data removed]",
      "text/plain": [
       "<Figure size 1080x504 with 1 Axes>"
      ]
     },
     "metadata": {},
     "output_type": "display_data"
    }
   ],
   "source": [
    "Age_Group.plot(kind='pie',labels=['13-30','31-60','1-12','60+'],autopct='%1.2f%%',figsize=(15,7),fontsize=15)\n",
    "plt.title('Demography based on Age Group',fontsize=14)\n",
    "plt.show()"
   ]
  },
  {
   "cell_type": "markdown",
   "id": "54b36cad",
   "metadata": {},
   "source": [
    "### (d) In what media outlet(s) should the film series be advertised?"
   ]
  },
  {
   "cell_type": "code",
   "execution_count": 145,
   "id": "92b23022",
   "metadata": {},
   "outputs": [
    {
     "data": {
      "text/plain": [
       "5      233\n",
       "4       41\n",
       "1       22\n",
       "3       14\n",
       "2       12\n",
       "2,5      2\n",
       "3,4      2\n",
       "4,5      1\n",
       "1,5      1\n",
       "5,4      1\n",
       "3,5      1\n",
       "Name: Hear_About, dtype: int64"
      ]
     },
     "execution_count": 145,
     "metadata": {},
     "output_type": "execute_result"
    }
   ],
   "source": [
    "Reachability_Media=Films.Hear_About.value_counts()\n",
    "Reachability_Media"
   ]
  },
  {
   "cell_type": "code",
   "execution_count": 161,
   "id": "38875502",
   "metadata": {},
   "outputs": [
    {
     "data": {
      "image/png": "[encoded data removed]",
      "text/plain": [
       "<Figure size 1080x504 with 1 Axes>"
      ]
     },
     "metadata": {
      "needs_background": "light"
     },
     "output_type": "display_data"
    }
   ],
   "source": [
    "Reachability_Media.plot(kind='bar',xlabel='Media Outlet',ylabel='Count of people',figsize=(15,7),fontsize=10)\n",
    "plt.title('Reachability',fontsize=14)\n",
    "plt.show()"
   ]
  },
  {
   "cell_type": "markdown",
   "id": "12f3db99",
   "metadata": {},
   "source": [
    "### Conclusion:"
   ]
  },
  {
   "cell_type": "markdown",
   "id": "7bb661df",
   "metadata": {},
   "source": [
    "### The majority of people heard about the film series is through 5 i.e. 'Word of Mouth'."
   ]
  },
  {
   "cell_type": "markdown",
   "id": "d2542708",
   "metadata": {},
   "source": [
    "## FINISH"
   ]
  },
  {
   "cell_type": "code",
   "execution_count": null,
   "id": "13fe1420",
   "metadata": {},
   "outputs": [],
   "source": []
  }
 ],
 "metadata": {
  "kernelspec": {
   "display_name": "Python 3 (ipykernel)",
   "language": "python",
   "name": "python3"
  },
  "language_info": {
   "codemirror_mode": {
    "name": "ipython",
    "version": 3
   },
   "file_extension": ".py",
   "mimetype": "text/x-python",
   "name": "python",
   "nbconvert_exporter": "python",
   "pygments_lexer": "ipython3",
   "version": "3.9.13"
  }
 },
 "nbformat": 4,
 "nbformat_minor": 5
}
